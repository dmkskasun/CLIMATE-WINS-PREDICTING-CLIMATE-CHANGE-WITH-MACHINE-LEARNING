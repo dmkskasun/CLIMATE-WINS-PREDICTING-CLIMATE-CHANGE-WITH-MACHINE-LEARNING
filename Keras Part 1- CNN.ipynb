{
 "cells": [
  {
   "cell_type": "markdown",
   "id": "f75745f7",
   "metadata": {},
   "source": [
    "### Keras Part 1"
   ]
  },
  {
   "cell_type": "markdown",
   "id": "a96a025f",
   "metadata": {},
   "source": [
    "### 1. Importing Libraries and Data"
   ]
  },
  {
   "cell_type": "code",
   "execution_count": 1,
   "id": "337c7f0c",
   "metadata": {},
   "outputs": [],
   "source": [
    "import pandas as pd\n",
    "import numpy as np\n",
    "import seaborn as sns\n",
    "import os\n",
    "import operator\n",
    "import matplotlib.pyplot as plt\n",
    "import tensorflow as tf\n",
    "from tensorflow import keras\n",
    "from numpy import unique\n",
    "from numpy import reshape\n",
    "from keras.models import Sequential\n",
    "from keras.layers import Conv1D, Conv2D, Dense, BatchNormalization, Flatten, MaxPooling1D, Dropout\n",
    "from keras.utils import to_categorical\n",
    "from sklearn.model_selection import train_test_split\n",
    "from sklearn.preprocessing import LabelEncoder\n",
    "\n",
    "import warnings\n",
    "warnings.filterwarnings(\"ignore\")"
   ]
  },
  {
   "cell_type": "code",
   "execution_count": 2,
   "id": "1e1e1cca",
   "metadata": {},
   "outputs": [],
   "source": [
    "path = r'C:\\Users\\dmksk\\OneDrive\\Desktop\\CF\\Macine Learning with Python\\Ex 2.2\\Data'"
   ]
  },
  {
   "cell_type": "code",
   "execution_count": 3,
   "id": "9f0acb99",
   "metadata": {},
   "outputs": [
    {
     "data": {
      "text/html": [
       "<div>\n",
       "<style scoped>\n",
       "    .dataframe tbody tr th:only-of-type {\n",
       "        vertical-align: middle;\n",
       "    }\n",
       "\n",
       "    .dataframe tbody tr th {\n",
       "        vertical-align: top;\n",
       "    }\n",
       "\n",
       "    .dataframe thead th {\n",
       "        text-align: right;\n",
       "    }\n",
       "</style>\n",
       "<table border=\"1\" class=\"dataframe\">\n",
       "  <thead>\n",
       "    <tr style=\"text-align: right;\">\n",
       "      <th></th>\n",
       "      <th>DATE</th>\n",
       "      <th>BASEL_pleasant_weather</th>\n",
       "      <th>BELGRADE_pleasant_weather</th>\n",
       "      <th>BUDAPEST_pleasant_weather</th>\n",
       "      <th>DEBILT_pleasant_weather</th>\n",
       "      <th>DUSSELDORF_pleasant_weather</th>\n",
       "      <th>HEATHROW_pleasant_weather</th>\n",
       "      <th>KASSEL_pleasant_weather</th>\n",
       "      <th>LJUBLJANA_pleasant_weather</th>\n",
       "      <th>MAASTRICHT_pleasant_weather</th>\n",
       "      <th>MADRID_pleasant_weather</th>\n",
       "      <th>MUNCHENB_pleasant_weather</th>\n",
       "      <th>OSLO_pleasant_weather</th>\n",
       "      <th>SONNBLICK_pleasant_weather</th>\n",
       "      <th>STOCKHOLM_pleasant_weather</th>\n",
       "      <th>VALENTIA_pleasant_weather</th>\n",
       "    </tr>\n",
       "  </thead>\n",
       "  <tbody>\n",
       "    <tr>\n",
       "      <th>0</th>\n",
       "      <td>19600101</td>\n",
       "      <td>0</td>\n",
       "      <td>0</td>\n",
       "      <td>0</td>\n",
       "      <td>0</td>\n",
       "      <td>0</td>\n",
       "      <td>0</td>\n",
       "      <td>0</td>\n",
       "      <td>0</td>\n",
       "      <td>0</td>\n",
       "      <td>0</td>\n",
       "      <td>0</td>\n",
       "      <td>0</td>\n",
       "      <td>0</td>\n",
       "      <td>0</td>\n",
       "      <td>0</td>\n",
       "    </tr>\n",
       "    <tr>\n",
       "      <th>1</th>\n",
       "      <td>19600102</td>\n",
       "      <td>0</td>\n",
       "      <td>0</td>\n",
       "      <td>0</td>\n",
       "      <td>0</td>\n",
       "      <td>0</td>\n",
       "      <td>0</td>\n",
       "      <td>0</td>\n",
       "      <td>0</td>\n",
       "      <td>0</td>\n",
       "      <td>0</td>\n",
       "      <td>0</td>\n",
       "      <td>0</td>\n",
       "      <td>0</td>\n",
       "      <td>0</td>\n",
       "      <td>0</td>\n",
       "    </tr>\n",
       "    <tr>\n",
       "      <th>2</th>\n",
       "      <td>19600103</td>\n",
       "      <td>0</td>\n",
       "      <td>0</td>\n",
       "      <td>0</td>\n",
       "      <td>0</td>\n",
       "      <td>0</td>\n",
       "      <td>0</td>\n",
       "      <td>0</td>\n",
       "      <td>0</td>\n",
       "      <td>0</td>\n",
       "      <td>0</td>\n",
       "      <td>0</td>\n",
       "      <td>0</td>\n",
       "      <td>0</td>\n",
       "      <td>0</td>\n",
       "      <td>0</td>\n",
       "    </tr>\n",
       "    <tr>\n",
       "      <th>3</th>\n",
       "      <td>19600104</td>\n",
       "      <td>0</td>\n",
       "      <td>0</td>\n",
       "      <td>0</td>\n",
       "      <td>0</td>\n",
       "      <td>0</td>\n",
       "      <td>0</td>\n",
       "      <td>0</td>\n",
       "      <td>0</td>\n",
       "      <td>0</td>\n",
       "      <td>0</td>\n",
       "      <td>0</td>\n",
       "      <td>0</td>\n",
       "      <td>0</td>\n",
       "      <td>0</td>\n",
       "      <td>0</td>\n",
       "    </tr>\n",
       "    <tr>\n",
       "      <th>4</th>\n",
       "      <td>19600105</td>\n",
       "      <td>0</td>\n",
       "      <td>0</td>\n",
       "      <td>0</td>\n",
       "      <td>0</td>\n",
       "      <td>0</td>\n",
       "      <td>0</td>\n",
       "      <td>0</td>\n",
       "      <td>0</td>\n",
       "      <td>0</td>\n",
       "      <td>0</td>\n",
       "      <td>0</td>\n",
       "      <td>0</td>\n",
       "      <td>0</td>\n",
       "      <td>0</td>\n",
       "      <td>0</td>\n",
       "    </tr>\n",
       "  </tbody>\n",
       "</table>\n",
       "</div>"
      ],
      "text/plain": [
       "       DATE  BASEL_pleasant_weather  BELGRADE_pleasant_weather  \\\n",
       "0  19600101                       0                          0   \n",
       "1  19600102                       0                          0   \n",
       "2  19600103                       0                          0   \n",
       "3  19600104                       0                          0   \n",
       "4  19600105                       0                          0   \n",
       "\n",
       "   BUDAPEST_pleasant_weather  DEBILT_pleasant_weather  \\\n",
       "0                          0                        0   \n",
       "1                          0                        0   \n",
       "2                          0                        0   \n",
       "3                          0                        0   \n",
       "4                          0                        0   \n",
       "\n",
       "   DUSSELDORF_pleasant_weather  HEATHROW_pleasant_weather  \\\n",
       "0                            0                          0   \n",
       "1                            0                          0   \n",
       "2                            0                          0   \n",
       "3                            0                          0   \n",
       "4                            0                          0   \n",
       "\n",
       "   KASSEL_pleasant_weather  LJUBLJANA_pleasant_weather  \\\n",
       "0                        0                           0   \n",
       "1                        0                           0   \n",
       "2                        0                           0   \n",
       "3                        0                           0   \n",
       "4                        0                           0   \n",
       "\n",
       "   MAASTRICHT_pleasant_weather  MADRID_pleasant_weather  \\\n",
       "0                            0                        0   \n",
       "1                            0                        0   \n",
       "2                            0                        0   \n",
       "3                            0                        0   \n",
       "4                            0                        0   \n",
       "\n",
       "   MUNCHENB_pleasant_weather  OSLO_pleasant_weather  \\\n",
       "0                          0                      0   \n",
       "1                          0                      0   \n",
       "2                          0                      0   \n",
       "3                          0                      0   \n",
       "4                          0                      0   \n",
       "\n",
       "   SONNBLICK_pleasant_weather  STOCKHOLM_pleasant_weather  \\\n",
       "0                           0                           0   \n",
       "1                           0                           0   \n",
       "2                           0                           0   \n",
       "3                           0                           0   \n",
       "4                           0                           0   \n",
       "\n",
       "   VALENTIA_pleasant_weather  \n",
       "0                          0  \n",
       "1                          0  \n",
       "2                          0  \n",
       "3                          0  \n",
       "4                          0  "
      ]
     },
     "execution_count": 3,
     "metadata": {},
     "output_type": "execute_result"
    }
   ],
   "source": [
    "# Load the CSV file with the correct column names\n",
    "pleasant = pd.read_csv(os.path.join(path, 'Pleasant_Weather.csv'), header=0, index_col= False)\n",
    "\n",
    "# Display the first few rows to confirm\n",
    "pleasant.head()"
   ]
  },
  {
   "cell_type": "code",
   "execution_count": 4,
   "id": "1b171459",
   "metadata": {},
   "outputs": [
    {
     "data": {
      "text/plain": [
       "(22950, 16)"
      ]
     },
     "execution_count": 4,
     "metadata": {},
     "output_type": "execute_result"
    }
   ],
   "source": [
    "pleasant.shape"
   ]
  },
  {
   "cell_type": "code",
   "execution_count": 5,
   "id": "36e5960c",
   "metadata": {},
   "outputs": [
    {
     "data": {
      "text/html": [
       "<div>\n",
       "<style scoped>\n",
       "    .dataframe tbody tr th:only-of-type {\n",
       "        vertical-align: middle;\n",
       "    }\n",
       "\n",
       "    .dataframe tbody tr th {\n",
       "        vertical-align: top;\n",
       "    }\n",
       "\n",
       "    .dataframe thead th {\n",
       "        text-align: right;\n",
       "    }\n",
       "</style>\n",
       "<table border=\"1\" class=\"dataframe\">\n",
       "  <thead>\n",
       "    <tr style=\"text-align: right;\">\n",
       "      <th></th>\n",
       "      <th>DATE</th>\n",
       "      <th>MONTH</th>\n",
       "      <th>BASEL_cloud_cover</th>\n",
       "      <th>BASEL_wind_speed</th>\n",
       "      <th>BASEL_humidity</th>\n",
       "      <th>BASEL_pressure</th>\n",
       "      <th>BASEL_global_radiation</th>\n",
       "      <th>BASEL_precipitation</th>\n",
       "      <th>BASEL_snow_depth</th>\n",
       "      <th>BASEL_sunshine</th>\n",
       "      <th>...</th>\n",
       "      <th>VALENTIA_cloud_cover</th>\n",
       "      <th>VALENTIA_humidity</th>\n",
       "      <th>VALENTIA_pressure</th>\n",
       "      <th>VALENTIA_global_radiation</th>\n",
       "      <th>VALENTIA_precipitation</th>\n",
       "      <th>VALENTIA_snow_depth</th>\n",
       "      <th>VALENTIA_sunshine</th>\n",
       "      <th>VALENTIA_temp_mean</th>\n",
       "      <th>VALENTIA_temp_min</th>\n",
       "      <th>VALENTIA_temp_max</th>\n",
       "    </tr>\n",
       "  </thead>\n",
       "  <tbody>\n",
       "    <tr>\n",
       "      <th>0</th>\n",
       "      <td>19600101</td>\n",
       "      <td>1</td>\n",
       "      <td>7</td>\n",
       "      <td>2.1</td>\n",
       "      <td>0.85</td>\n",
       "      <td>1.018</td>\n",
       "      <td>0.32</td>\n",
       "      <td>0.09</td>\n",
       "      <td>0</td>\n",
       "      <td>0.7</td>\n",
       "      <td>...</td>\n",
       "      <td>5</td>\n",
       "      <td>0.88</td>\n",
       "      <td>1.0003</td>\n",
       "      <td>0.45</td>\n",
       "      <td>0.34</td>\n",
       "      <td>0</td>\n",
       "      <td>4.7</td>\n",
       "      <td>8.5</td>\n",
       "      <td>6.0</td>\n",
       "      <td>10.9</td>\n",
       "    </tr>\n",
       "    <tr>\n",
       "      <th>1</th>\n",
       "      <td>19600102</td>\n",
       "      <td>1</td>\n",
       "      <td>6</td>\n",
       "      <td>2.1</td>\n",
       "      <td>0.84</td>\n",
       "      <td>1.018</td>\n",
       "      <td>0.36</td>\n",
       "      <td>1.05</td>\n",
       "      <td>0</td>\n",
       "      <td>1.1</td>\n",
       "      <td>...</td>\n",
       "      <td>7</td>\n",
       "      <td>0.91</td>\n",
       "      <td>1.0007</td>\n",
       "      <td>0.25</td>\n",
       "      <td>0.84</td>\n",
       "      <td>0</td>\n",
       "      <td>0.7</td>\n",
       "      <td>8.9</td>\n",
       "      <td>5.6</td>\n",
       "      <td>12.1</td>\n",
       "    </tr>\n",
       "    <tr>\n",
       "      <th>2</th>\n",
       "      <td>19600103</td>\n",
       "      <td>1</td>\n",
       "      <td>8</td>\n",
       "      <td>2.1</td>\n",
       "      <td>0.90</td>\n",
       "      <td>1.018</td>\n",
       "      <td>0.18</td>\n",
       "      <td>0.30</td>\n",
       "      <td>0</td>\n",
       "      <td>0.0</td>\n",
       "      <td>...</td>\n",
       "      <td>7</td>\n",
       "      <td>0.91</td>\n",
       "      <td>1.0096</td>\n",
       "      <td>0.17</td>\n",
       "      <td>0.08</td>\n",
       "      <td>0</td>\n",
       "      <td>0.1</td>\n",
       "      <td>10.5</td>\n",
       "      <td>8.1</td>\n",
       "      <td>12.9</td>\n",
       "    </tr>\n",
       "    <tr>\n",
       "      <th>3</th>\n",
       "      <td>19600104</td>\n",
       "      <td>1</td>\n",
       "      <td>3</td>\n",
       "      <td>2.1</td>\n",
       "      <td>0.92</td>\n",
       "      <td>1.018</td>\n",
       "      <td>0.58</td>\n",
       "      <td>0.00</td>\n",
       "      <td>0</td>\n",
       "      <td>4.1</td>\n",
       "      <td>...</td>\n",
       "      <td>7</td>\n",
       "      <td>0.86</td>\n",
       "      <td>1.0184</td>\n",
       "      <td>0.13</td>\n",
       "      <td>0.98</td>\n",
       "      <td>0</td>\n",
       "      <td>0.0</td>\n",
       "      <td>7.4</td>\n",
       "      <td>7.3</td>\n",
       "      <td>10.6</td>\n",
       "    </tr>\n",
       "    <tr>\n",
       "      <th>4</th>\n",
       "      <td>19600105</td>\n",
       "      <td>1</td>\n",
       "      <td>6</td>\n",
       "      <td>2.1</td>\n",
       "      <td>0.95</td>\n",
       "      <td>1.018</td>\n",
       "      <td>0.65</td>\n",
       "      <td>0.14</td>\n",
       "      <td>0</td>\n",
       "      <td>5.4</td>\n",
       "      <td>...</td>\n",
       "      <td>3</td>\n",
       "      <td>0.80</td>\n",
       "      <td>1.0328</td>\n",
       "      <td>0.46</td>\n",
       "      <td>0.00</td>\n",
       "      <td>0</td>\n",
       "      <td>5.7</td>\n",
       "      <td>5.7</td>\n",
       "      <td>3.0</td>\n",
       "      <td>8.4</td>\n",
       "    </tr>\n",
       "  </tbody>\n",
       "</table>\n",
       "<p>5 rows × 170 columns</p>\n",
       "</div>"
      ],
      "text/plain": [
       "       DATE  MONTH  BASEL_cloud_cover  BASEL_wind_speed  BASEL_humidity  \\\n",
       "0  19600101      1                  7               2.1            0.85   \n",
       "1  19600102      1                  6               2.1            0.84   \n",
       "2  19600103      1                  8               2.1            0.90   \n",
       "3  19600104      1                  3               2.1            0.92   \n",
       "4  19600105      1                  6               2.1            0.95   \n",
       "\n",
       "   BASEL_pressure  BASEL_global_radiation  BASEL_precipitation  \\\n",
       "0           1.018                    0.32                 0.09   \n",
       "1           1.018                    0.36                 1.05   \n",
       "2           1.018                    0.18                 0.30   \n",
       "3           1.018                    0.58                 0.00   \n",
       "4           1.018                    0.65                 0.14   \n",
       "\n",
       "   BASEL_snow_depth  BASEL_sunshine  ...  VALENTIA_cloud_cover  \\\n",
       "0                 0             0.7  ...                     5   \n",
       "1                 0             1.1  ...                     7   \n",
       "2                 0             0.0  ...                     7   \n",
       "3                 0             4.1  ...                     7   \n",
       "4                 0             5.4  ...                     3   \n",
       "\n",
       "   VALENTIA_humidity  VALENTIA_pressure  VALENTIA_global_radiation  \\\n",
       "0               0.88             1.0003                       0.45   \n",
       "1               0.91             1.0007                       0.25   \n",
       "2               0.91             1.0096                       0.17   \n",
       "3               0.86             1.0184                       0.13   \n",
       "4               0.80             1.0328                       0.46   \n",
       "\n",
       "   VALENTIA_precipitation  VALENTIA_snow_depth  VALENTIA_sunshine  \\\n",
       "0                    0.34                    0                4.7   \n",
       "1                    0.84                    0                0.7   \n",
       "2                    0.08                    0                0.1   \n",
       "3                    0.98                    0                0.0   \n",
       "4                    0.00                    0                5.7   \n",
       "\n",
       "   VALENTIA_temp_mean  VALENTIA_temp_min  VALENTIA_temp_max  \n",
       "0                 8.5                6.0               10.9  \n",
       "1                 8.9                5.6               12.1  \n",
       "2                10.5                8.1               12.9  \n",
       "3                 7.4                7.3               10.6  \n",
       "4                 5.7                3.0                8.4  \n",
       "\n",
       "[5 rows x 170 columns]"
      ]
     },
     "execution_count": 5,
     "metadata": {},
     "output_type": "execute_result"
    }
   ],
   "source": [
    "# Load the CSV file with the correct column names\n",
    "unscaled = pd.read_csv(os.path.join(path, 'Dataset_Weather.csv'), header=0, index_col= False)\n",
    "\n",
    "# Display the first few rows to confirm\n",
    "unscaled.head()"
   ]
  },
  {
   "cell_type": "markdown",
   "id": "28b4520d",
   "metadata": {},
   "source": [
    "### 2. Data Wrangling"
   ]
  },
  {
   "cell_type": "code",
   "execution_count": 6,
   "id": "a17810fa",
   "metadata": {},
   "outputs": [],
   "source": [
    "# Drop the columns related to Tours, Gdansk and Rome from the unscaled dataset\n",
    "# Every set of observations needs to be the same length. Three of the weather stations don’t have enough and need to be dropped from the data set. You’ll find them already removed from the predictions data set.\n",
    "\n",
    "unscaled = unscaled.drop(['GDANSK_cloud_cover', 'GDANSK_humidity', 'GDANSK_precipitation', 'GDANSK_snow_depth', 'GDANSK_temp_mean', 'GDANSK_temp_min', 'GDANSK_temp_max',\n",
    "                        'ROMA_cloud_cover', 'ROMA_wind_speed', 'ROMA_humidity', 'ROMA_pressure', 'ROMA_sunshine', 'ROMA_temp_mean',\n",
    "                        'TOURS_wind_speed', 'TOURS_humidity', 'TOURS_pressure', 'TOURS_global_radiation', 'TOURS_precipitation', 'TOURS_temp_mean', 'TOURS_temp_min', 'TOURS_temp_max'], axis=1)"
   ]
  },
  {
   "cell_type": "code",
   "execution_count": 7,
   "id": "8ba49ea4",
   "metadata": {},
   "outputs": [
    {
     "data": {
      "text/plain": [
       "(22950, 149)"
      ]
     },
     "execution_count": 7,
     "metadata": {},
     "output_type": "execute_result"
    }
   ],
   "source": [
    "unscaled.shape"
   ]
  },
  {
   "cell_type": "code",
   "execution_count": 8,
   "id": "95458ab2",
   "metadata": {},
   "outputs": [],
   "source": [
    "# Extract the different observation types\n",
    "\n",
    "observation_types = ['cloud_cover', 'wind_speed', 'humidity', 'pressure',\n",
    "                     'global_radiation', 'precipitation', 'snow_depth', \n",
    "                     'sunshine', 'temp_mean', 'temp_min', 'temp_max']"
   ]
  },
  {
   "cell_type": "code",
   "execution_count": 9,
   "id": "8906ea70",
   "metadata": {},
   "outputs": [
    {
     "name": "stdout",
     "output_type": "stream",
     "text": [
      "Number of stations covered by each observation type:\n",
      "cloud_cover: 14 stations\n",
      "wind_speed: 9 stations\n",
      "humidity: 14 stations\n",
      "pressure: 14 stations\n",
      "global_radiation: 15 stations\n",
      "precipitation: 15 stations\n",
      "snow_depth: 6 stations\n",
      "sunshine: 15 stations\n",
      "temp_mean: 15 stations\n",
      "temp_min: 15 stations\n",
      "temp_max: 15 stations\n"
     ]
    }
   ],
   "source": [
    "# Two types of observations are missing multiple years for most weather stations. Remove them.\n",
    "# Create a dictionary to store the count of stations for each observation type\n",
    "station_counts = {}\n",
    "\n",
    "for obs in observation_types:\n",
    "    # Select columns related to the current observation type\n",
    "    columns = [col for col in unscaled.columns if col.endswith(obs)]\n",
    "    \n",
    "    # Count the number of stations (i.e., the number of columns) for the current observation type\n",
    "    station_counts[obs] = len(columns)\n",
    "\n",
    "# Print the count of stations for each observation type\n",
    "print(\"Number of stations covered by each observation type:\")\n",
    "for obs, count in station_counts.items():\n",
    "    print(f\"{obs}: {count} stations\")"
   ]
  },
  {
   "cell_type": "code",
   "execution_count": 10,
   "id": "7418412d",
   "metadata": {},
   "outputs": [
    {
     "data": {
      "text/plain": [
       "Index(['BASEL_wind_speed', 'BASEL_snow_depth', 'DEBILT_wind_speed',\n",
       "       'DUSSELDORF_wind_speed', 'DUSSELDORF_snow_depth', 'HEATHROW_snow_depth',\n",
       "       'KASSEL_wind_speed', 'LJUBLJANA_wind_speed', 'MAASTRICHT_wind_speed',\n",
       "       'MADRID_wind_speed', 'MUNCHENB_snow_depth', 'OSLO_wind_speed',\n",
       "       'OSLO_snow_depth', 'SONNBLICK_wind_speed', 'VALENTIA_snow_depth'],\n",
       "      dtype='object')"
      ]
     },
     "execution_count": 10,
     "metadata": {},
     "output_type": "execute_result"
    }
   ],
   "source": [
    "# Drop columns that end with wind_speed and snow_depth from the dataset\n",
    "\n",
    "columns_to_drop = unscaled.filter(regex='(_wind_speed|_snow_depth)$').columns\n",
    "columns_to_drop"
   ]
  },
  {
   "cell_type": "code",
   "execution_count": 11,
   "id": "9a5f7747",
   "metadata": {},
   "outputs": [],
   "source": [
    "unscaled = unscaled.drop(columns=columns_to_drop)"
   ]
  },
  {
   "cell_type": "code",
   "execution_count": 12,
   "id": "5c5a7a89",
   "metadata": {},
   "outputs": [
    {
     "data": {
      "text/plain": [
       "(22950, 134)"
      ]
     },
     "execution_count": 12,
     "metadata": {},
     "output_type": "execute_result"
    }
   ],
   "source": [
    "unscaled.shape"
   ]
  },
  {
   "cell_type": "code",
   "execution_count": 13,
   "id": "8fa1b847",
   "metadata": {},
   "outputs": [
    {
     "data": {
      "text/plain": [
       "{'BASEL',\n",
       " 'BELGRADE',\n",
       " 'BUDAPEST',\n",
       " 'DEBILT',\n",
       " 'DUSSELDORF',\n",
       " 'HEATHROW',\n",
       " 'KASSEL',\n",
       " 'LJUBLJANA',\n",
       " 'MAASTRICHT',\n",
       " 'MADRID',\n",
       " 'MUNCHENB',\n",
       " 'OSLO',\n",
       " 'SONNBLICK',\n",
       " 'STOCKHOLM',\n",
       " 'VALENTIA'}"
      ]
     },
     "execution_count": 13,
     "metadata": {},
     "output_type": "execute_result"
    }
   ],
   "source": [
    "# Create a list of all unique station names in the dataset\n",
    "\n",
    "all_stations = set([col.split('_')[0] for col in unscaled.columns if '_' in col])\n",
    "all_stations"
   ]
  },
  {
   "cell_type": "code",
   "execution_count": 14,
   "id": "047565cb",
   "metadata": {},
   "outputs": [],
   "source": [
    "# There are three individual observations that need to be filled in. Assume nearby stations have similar weather, then pick one to copy the data from (Ljubljana is near Kassel, Sonnblick is near Munchen, and Olso is close enough to Stockholm)."
   ]
  },
  {
   "cell_type": "code",
   "execution_count": 15,
   "id": "bee78f07",
   "metadata": {},
   "outputs": [
    {
     "name": "stdout",
     "output_type": "stream",
     "text": [
      "\n",
      "Stations missing from cloud_cover:\n",
      "KASSEL\n",
      "\n",
      "Stations missing from humidity:\n",
      "STOCKHOLM\n",
      "\n",
      "Stations missing from pressure:\n",
      "MUNCHENB\n"
     ]
    }
   ],
   "source": [
    "observation_types = ['cloud_cover', 'humidity', 'pressure']\n",
    "\n",
    "missing_stations_by_observation = {}\n",
    "\n",
    "for obs in observation_types:\n",
    "    # Select columns related to the current observation type\n",
    "    columns = [col for col in unscaled.columns if col.endswith(obs)]\n",
    "    \n",
    "    # Extract station names by removing the observation type from the column names\n",
    "    station_names = set([col.replace(f'_{obs}', '') for col in columns])\n",
    "    \n",
    "    # Identify stations that are in all_stations but missing from the current observation type\n",
    "    missing_stations = all_stations - station_names\n",
    "    \n",
    "    # Store the missing station names in the dictionary\n",
    "    missing_stations_by_observation[obs] = missing_stations\n",
    "\n",
    "# Print the missing station names for each observation type\n",
    "for obs, missing_stations in missing_stations_by_observation.items():\n",
    "    print(f\"\\nStations missing from {obs}:\")\n",
    "    if missing_stations:\n",
    "        for station in missing_stations:\n",
    "            print(station)\n",
    "    else:\n",
    "        print(\"None\")"
   ]
  },
  {
   "cell_type": "markdown",
   "id": "8b7caf0f",
   "metadata": {},
   "source": [
    "##### 1 entry is missing for multiple observations: cloud_cover, humidity, and pressure. \n"
   ]
  },
  {
   "cell_type": "code",
   "execution_count": 16,
   "id": "f6aeac22",
   "metadata": {},
   "outputs": [
    {
     "data": {
      "text/plain": [
       "(22950, 134)"
      ]
     },
     "execution_count": 16,
     "metadata": {},
     "output_type": "execute_result"
    }
   ],
   "source": [
    "unscaled.shape"
   ]
  },
  {
   "cell_type": "code",
   "execution_count": 17,
   "id": "06d76cfa",
   "metadata": {},
   "outputs": [
    {
     "data": {
      "text/html": [
       "<div>\n",
       "<style scoped>\n",
       "    .dataframe tbody tr th:only-of-type {\n",
       "        vertical-align: middle;\n",
       "    }\n",
       "\n",
       "    .dataframe tbody tr th {\n",
       "        vertical-align: top;\n",
       "    }\n",
       "\n",
       "    .dataframe thead th {\n",
       "        text-align: right;\n",
       "    }\n",
       "</style>\n",
       "<table border=\"1\" class=\"dataframe\">\n",
       "  <thead>\n",
       "    <tr style=\"text-align: right;\">\n",
       "      <th></th>\n",
       "      <th>DATE</th>\n",
       "      <th>MONTH</th>\n",
       "      <th>BASEL_cloud_cover</th>\n",
       "      <th>BASEL_humidity</th>\n",
       "      <th>BASEL_pressure</th>\n",
       "      <th>BASEL_global_radiation</th>\n",
       "      <th>BASEL_precipitation</th>\n",
       "      <th>BASEL_sunshine</th>\n",
       "      <th>BASEL_temp_mean</th>\n",
       "      <th>BASEL_temp_min</th>\n",
       "      <th>...</th>\n",
       "      <th>STOCKHOLM_temp_max</th>\n",
       "      <th>VALENTIA_cloud_cover</th>\n",
       "      <th>VALENTIA_humidity</th>\n",
       "      <th>VALENTIA_pressure</th>\n",
       "      <th>VALENTIA_global_radiation</th>\n",
       "      <th>VALENTIA_precipitation</th>\n",
       "      <th>VALENTIA_sunshine</th>\n",
       "      <th>VALENTIA_temp_mean</th>\n",
       "      <th>VALENTIA_temp_min</th>\n",
       "      <th>VALENTIA_temp_max</th>\n",
       "    </tr>\n",
       "  </thead>\n",
       "  <tbody>\n",
       "    <tr>\n",
       "      <th>0</th>\n",
       "      <td>19600101</td>\n",
       "      <td>1</td>\n",
       "      <td>7</td>\n",
       "      <td>0.85</td>\n",
       "      <td>1.018</td>\n",
       "      <td>0.32</td>\n",
       "      <td>0.09</td>\n",
       "      <td>0.7</td>\n",
       "      <td>6.5</td>\n",
       "      <td>0.8</td>\n",
       "      <td>...</td>\n",
       "      <td>4.9</td>\n",
       "      <td>5</td>\n",
       "      <td>0.88</td>\n",
       "      <td>1.0003</td>\n",
       "      <td>0.45</td>\n",
       "      <td>0.34</td>\n",
       "      <td>4.7</td>\n",
       "      <td>8.5</td>\n",
       "      <td>6.0</td>\n",
       "      <td>10.9</td>\n",
       "    </tr>\n",
       "    <tr>\n",
       "      <th>1</th>\n",
       "      <td>19600102</td>\n",
       "      <td>1</td>\n",
       "      <td>6</td>\n",
       "      <td>0.84</td>\n",
       "      <td>1.018</td>\n",
       "      <td>0.36</td>\n",
       "      <td>1.05</td>\n",
       "      <td>1.1</td>\n",
       "      <td>6.1</td>\n",
       "      <td>3.3</td>\n",
       "      <td>...</td>\n",
       "      <td>5.0</td>\n",
       "      <td>7</td>\n",
       "      <td>0.91</td>\n",
       "      <td>1.0007</td>\n",
       "      <td>0.25</td>\n",
       "      <td>0.84</td>\n",
       "      <td>0.7</td>\n",
       "      <td>8.9</td>\n",
       "      <td>5.6</td>\n",
       "      <td>12.1</td>\n",
       "    </tr>\n",
       "    <tr>\n",
       "      <th>2</th>\n",
       "      <td>19600103</td>\n",
       "      <td>1</td>\n",
       "      <td>8</td>\n",
       "      <td>0.90</td>\n",
       "      <td>1.018</td>\n",
       "      <td>0.18</td>\n",
       "      <td>0.30</td>\n",
       "      <td>0.0</td>\n",
       "      <td>8.5</td>\n",
       "      <td>5.1</td>\n",
       "      <td>...</td>\n",
       "      <td>4.1</td>\n",
       "      <td>7</td>\n",
       "      <td>0.91</td>\n",
       "      <td>1.0096</td>\n",
       "      <td>0.17</td>\n",
       "      <td>0.08</td>\n",
       "      <td>0.1</td>\n",
       "      <td>10.5</td>\n",
       "      <td>8.1</td>\n",
       "      <td>12.9</td>\n",
       "    </tr>\n",
       "    <tr>\n",
       "      <th>3</th>\n",
       "      <td>19600104</td>\n",
       "      <td>1</td>\n",
       "      <td>3</td>\n",
       "      <td>0.92</td>\n",
       "      <td>1.018</td>\n",
       "      <td>0.58</td>\n",
       "      <td>0.00</td>\n",
       "      <td>4.1</td>\n",
       "      <td>6.3</td>\n",
       "      <td>3.8</td>\n",
       "      <td>...</td>\n",
       "      <td>2.3</td>\n",
       "      <td>7</td>\n",
       "      <td>0.86</td>\n",
       "      <td>1.0184</td>\n",
       "      <td>0.13</td>\n",
       "      <td>0.98</td>\n",
       "      <td>0.0</td>\n",
       "      <td>7.4</td>\n",
       "      <td>7.3</td>\n",
       "      <td>10.6</td>\n",
       "    </tr>\n",
       "    <tr>\n",
       "      <th>4</th>\n",
       "      <td>19600105</td>\n",
       "      <td>1</td>\n",
       "      <td>6</td>\n",
       "      <td>0.95</td>\n",
       "      <td>1.018</td>\n",
       "      <td>0.65</td>\n",
       "      <td>0.14</td>\n",
       "      <td>5.4</td>\n",
       "      <td>3.0</td>\n",
       "      <td>-0.7</td>\n",
       "      <td>...</td>\n",
       "      <td>4.3</td>\n",
       "      <td>3</td>\n",
       "      <td>0.80</td>\n",
       "      <td>1.0328</td>\n",
       "      <td>0.46</td>\n",
       "      <td>0.00</td>\n",
       "      <td>5.7</td>\n",
       "      <td>5.7</td>\n",
       "      <td>3.0</td>\n",
       "      <td>8.4</td>\n",
       "    </tr>\n",
       "  </tbody>\n",
       "</table>\n",
       "<p>5 rows × 134 columns</p>\n",
       "</div>"
      ],
      "text/plain": [
       "       DATE  MONTH  BASEL_cloud_cover  BASEL_humidity  BASEL_pressure  \\\n",
       "0  19600101      1                  7            0.85           1.018   \n",
       "1  19600102      1                  6            0.84           1.018   \n",
       "2  19600103      1                  8            0.90           1.018   \n",
       "3  19600104      1                  3            0.92           1.018   \n",
       "4  19600105      1                  6            0.95           1.018   \n",
       "\n",
       "   BASEL_global_radiation  BASEL_precipitation  BASEL_sunshine  \\\n",
       "0                    0.32                 0.09             0.7   \n",
       "1                    0.36                 1.05             1.1   \n",
       "2                    0.18                 0.30             0.0   \n",
       "3                    0.58                 0.00             4.1   \n",
       "4                    0.65                 0.14             5.4   \n",
       "\n",
       "   BASEL_temp_mean  BASEL_temp_min  ...  STOCKHOLM_temp_max  \\\n",
       "0              6.5             0.8  ...                 4.9   \n",
       "1              6.1             3.3  ...                 5.0   \n",
       "2              8.5             5.1  ...                 4.1   \n",
       "3              6.3             3.8  ...                 2.3   \n",
       "4              3.0            -0.7  ...                 4.3   \n",
       "\n",
       "   VALENTIA_cloud_cover  VALENTIA_humidity  VALENTIA_pressure  \\\n",
       "0                     5               0.88             1.0003   \n",
       "1                     7               0.91             1.0007   \n",
       "2                     7               0.91             1.0096   \n",
       "3                     7               0.86             1.0184   \n",
       "4                     3               0.80             1.0328   \n",
       "\n",
       "   VALENTIA_global_radiation  VALENTIA_precipitation  VALENTIA_sunshine  \\\n",
       "0                       0.45                    0.34                4.7   \n",
       "1                       0.25                    0.84                0.7   \n",
       "2                       0.17                    0.08                0.1   \n",
       "3                       0.13                    0.98                0.0   \n",
       "4                       0.46                    0.00                5.7   \n",
       "\n",
       "   VALENTIA_temp_mean  VALENTIA_temp_min  VALENTIA_temp_max  \n",
       "0                 8.5                6.0               10.9  \n",
       "1                 8.9                5.6               12.1  \n",
       "2                10.5                8.1               12.9  \n",
       "3                 7.4                7.3               10.6  \n",
       "4                 5.7                3.0                8.4  \n",
       "\n",
       "[5 rows x 134 columns]"
      ]
     },
     "execution_count": 17,
     "metadata": {},
     "output_type": "execute_result"
    }
   ],
   "source": [
    "unscaled.head()"
   ]
  },
  {
   "cell_type": "code",
   "execution_count": 18,
   "id": "74d8797b",
   "metadata": {},
   "outputs": [
    {
     "name": "stdout",
     "output_type": "stream",
     "text": [
      "Column names in the DataFrame:\n",
      "['DATE', 'MONTH', 'BASEL_cloud_cover', 'BASEL_humidity', 'BASEL_pressure', 'BASEL_global_radiation', 'BASEL_precipitation', 'BASEL_sunshine', 'BASEL_temp_mean', 'BASEL_temp_min', 'BASEL_temp_max', 'BELGRADE_cloud_cover', 'BELGRADE_humidity', 'BELGRADE_pressure', 'BELGRADE_global_radiation', 'BELGRADE_precipitation', 'BELGRADE_sunshine', 'BELGRADE_temp_mean', 'BELGRADE_temp_min', 'BELGRADE_temp_max', 'BUDAPEST_cloud_cover', 'BUDAPEST_humidity', 'BUDAPEST_pressure', 'BUDAPEST_global_radiation', 'BUDAPEST_precipitation', 'BUDAPEST_sunshine', 'BUDAPEST_temp_mean', 'BUDAPEST_temp_min', 'BUDAPEST_temp_max', 'DEBILT_cloud_cover', 'DEBILT_humidity', 'DEBILT_pressure', 'DEBILT_global_radiation', 'DEBILT_precipitation', 'DEBILT_sunshine', 'DEBILT_temp_mean', 'DEBILT_temp_min', 'DEBILT_temp_max', 'DUSSELDORF_cloud_cover', 'DUSSELDORF_humidity', 'DUSSELDORF_pressure', 'DUSSELDORF_global_radiation', 'DUSSELDORF_precipitation', 'DUSSELDORF_sunshine', 'DUSSELDORF_temp_mean', 'DUSSELDORF_temp_min', 'DUSSELDORF_temp_max', 'HEATHROW_cloud_cover', 'HEATHROW_humidity', 'HEATHROW_pressure', 'HEATHROW_global_radiation', 'HEATHROW_precipitation', 'HEATHROW_sunshine', 'HEATHROW_temp_mean', 'HEATHROW_temp_min', 'HEATHROW_temp_max', 'KASSEL_humidity', 'KASSEL_pressure', 'KASSEL_global_radiation', 'KASSEL_precipitation', 'KASSEL_sunshine', 'KASSEL_temp_mean', 'KASSEL_temp_min', 'KASSEL_temp_max', 'LJUBLJANA_cloud_cover', 'LJUBLJANA_humidity', 'LJUBLJANA_pressure', 'LJUBLJANA_global_radiation', 'LJUBLJANA_precipitation', 'LJUBLJANA_sunshine', 'LJUBLJANA_temp_mean', 'LJUBLJANA_temp_min', 'LJUBLJANA_temp_max', 'MAASTRICHT_cloud_cover', 'MAASTRICHT_humidity', 'MAASTRICHT_pressure', 'MAASTRICHT_global_radiation', 'MAASTRICHT_precipitation', 'MAASTRICHT_sunshine', 'MAASTRICHT_temp_mean', 'MAASTRICHT_temp_min', 'MAASTRICHT_temp_max', 'MADRID_cloud_cover', 'MADRID_humidity', 'MADRID_pressure', 'MADRID_global_radiation', 'MADRID_precipitation', 'MADRID_sunshine', 'MADRID_temp_mean', 'MADRID_temp_min', 'MADRID_temp_max', 'MUNCHENB_cloud_cover', 'MUNCHENB_humidity', 'MUNCHENB_global_radiation', 'MUNCHENB_precipitation', 'MUNCHENB_sunshine', 'MUNCHENB_temp_mean', 'MUNCHENB_temp_min', 'MUNCHENB_temp_max', 'OSLO_cloud_cover', 'OSLO_humidity', 'OSLO_pressure', 'OSLO_global_radiation', 'OSLO_precipitation', 'OSLO_sunshine', 'OSLO_temp_mean', 'OSLO_temp_min', 'OSLO_temp_max', 'SONNBLICK_cloud_cover', 'SONNBLICK_humidity', 'SONNBLICK_pressure', 'SONNBLICK_global_radiation', 'SONNBLICK_precipitation', 'SONNBLICK_sunshine', 'SONNBLICK_temp_mean', 'SONNBLICK_temp_min', 'SONNBLICK_temp_max', 'STOCKHOLM_cloud_cover', 'STOCKHOLM_pressure', 'STOCKHOLM_global_radiation', 'STOCKHOLM_precipitation', 'STOCKHOLM_sunshine', 'STOCKHOLM_temp_mean', 'STOCKHOLM_temp_min', 'STOCKHOLM_temp_max', 'VALENTIA_cloud_cover', 'VALENTIA_humidity', 'VALENTIA_pressure', 'VALENTIA_global_radiation', 'VALENTIA_precipitation', 'VALENTIA_sunshine', 'VALENTIA_temp_mean', 'VALENTIA_temp_min', 'VALENTIA_temp_max']\n",
      "\n",
      "First few rows of the DataFrame:\n",
      "       DATE  MONTH  BASEL_cloud_cover  BASEL_humidity  BASEL_pressure  \\\n",
      "0  19600101      1                  7            0.85           1.018   \n",
      "1  19600102      1                  6            0.84           1.018   \n",
      "2  19600103      1                  8            0.90           1.018   \n",
      "3  19600104      1                  3            0.92           1.018   \n",
      "4  19600105      1                  6            0.95           1.018   \n",
      "\n",
      "   BASEL_global_radiation  BASEL_precipitation  BASEL_sunshine  \\\n",
      "0                    0.32                 0.09             0.7   \n",
      "1                    0.36                 1.05             1.1   \n",
      "2                    0.18                 0.30             0.0   \n",
      "3                    0.58                 0.00             4.1   \n",
      "4                    0.65                 0.14             5.4   \n",
      "\n",
      "   BASEL_temp_mean  BASEL_temp_min  ...  STOCKHOLM_temp_max  \\\n",
      "0              6.5             0.8  ...                 4.9   \n",
      "1              6.1             3.3  ...                 5.0   \n",
      "2              8.5             5.1  ...                 4.1   \n",
      "3              6.3             3.8  ...                 2.3   \n",
      "4              3.0            -0.7  ...                 4.3   \n",
      "\n",
      "   VALENTIA_cloud_cover  VALENTIA_humidity  VALENTIA_pressure  \\\n",
      "0                     5               0.88             1.0003   \n",
      "1                     7               0.91             1.0007   \n",
      "2                     7               0.91             1.0096   \n",
      "3                     7               0.86             1.0184   \n",
      "4                     3               0.80             1.0328   \n",
      "\n",
      "   VALENTIA_global_radiation  VALENTIA_precipitation  VALENTIA_sunshine  \\\n",
      "0                       0.45                    0.34                4.7   \n",
      "1                       0.25                    0.84                0.7   \n",
      "2                       0.17                    0.08                0.1   \n",
      "3                       0.13                    0.98                0.0   \n",
      "4                       0.46                    0.00                5.7   \n",
      "\n",
      "   VALENTIA_temp_mean  VALENTIA_temp_min  VALENTIA_temp_max  \n",
      "0                 8.5                6.0               10.9  \n",
      "1                 8.9                5.6               12.1  \n",
      "2                10.5                8.1               12.9  \n",
      "3                 7.4                7.3               10.6  \n",
      "4                 5.7                3.0                8.4  \n",
      "\n",
      "[5 rows x 134 columns]\n"
     ]
    }
   ],
   "source": [
    "# Display all column names in the DataFrame\n",
    "print(\"Column names in the DataFrame:\")\n",
    "print(unscaled.columns.tolist())\n",
    "\n",
    "# Display the first few rows of the DataFrame\n",
    "print(\"\\nFirst few rows of the DataFrame:\")\n",
    "print(unscaled.head())\n"
   ]
  },
  {
   "cell_type": "code",
   "execution_count": 19,
   "id": "b187c419",
   "metadata": {},
   "outputs": [
    {
     "name": "stdout",
     "output_type": "stream",
     "text": [
      "Updated DataFrame with only the newly created columns:\n",
      "   KASSEL_cloud_cover  STOCKHOLM_humidity  MUNCHENB_pressure\n",
      "0                   8                0.98             1.0304\n",
      "1                   6                0.62             1.0292\n",
      "2                   8                0.69             1.0320\n",
      "3                   6                0.98             1.0443\n",
      "4                   7                0.96             1.0430\n"
     ]
    }
   ],
   "source": [
    "# Mapping of new column names to existing columns (nearest stations)\n",
    "column_mapping = {\n",
    "    'KASSEL_cloud_cover': 'LJUBLJANA_cloud_cover',\n",
    "    'STOCKHOLM_humidity': 'OSLO_humidity',\n",
    "    'MUNCHENB_pressure': 'SONNBLICK_pressure'\n",
    "}\n",
    "\n",
    "# Copy data to the new columns\n",
    "for new_column, source_column in column_mapping.items():\n",
    "    unscaled[new_column] = unscaled[source_column]\n",
    "\n",
    "# Create a DataFrame with only the newly added columns\n",
    "new_columns_df = unscaled[list(column_mapping.keys())]\n",
    "\n",
    "# Display the DataFrame with only the new columns\n",
    "print(\"Updated DataFrame with only the newly created columns:\")\n",
    "print(new_columns_df.head())\n",
    "\n",
    "\n"
   ]
  },
  {
   "cell_type": "code",
   "execution_count": 20,
   "id": "1f9cdd10",
   "metadata": {},
   "outputs": [
    {
     "name": "stdout",
     "output_type": "stream",
     "text": [
      "Updated DataFrame with new columns and their sources:\n",
      "   KASSEL_cloud_cover  LJUBLJANA_cloud_cover  STOCKHOLM_humidity  \\\n",
      "0                   8                      8                0.98   \n",
      "1                   6                      6                0.62   \n",
      "2                   8                      8                0.69   \n",
      "3                   6                      6                0.98   \n",
      "4                   7                      7                0.96   \n",
      "\n",
      "   OSLO_humidity  MUNCHENB_pressure  SONNBLICK_pressure  \n",
      "0           0.98             1.0304              1.0304  \n",
      "1           0.62             1.0292              1.0292  \n",
      "2           0.69             1.0320              1.0320  \n",
      "3           0.98             1.0443              1.0443  \n",
      "4           0.96             1.0430              1.0430  \n"
     ]
    }
   ],
   "source": [
    "# Mapping of new column names to existing columns (nearest stations)\n",
    "column_mapping = {\n",
    "    'KASSEL_cloud_cover': 'LJUBLJANA_cloud_cover',\n",
    "    'STOCKHOLM_humidity': 'OSLO_humidity',\n",
    "    'MUNCHENB_pressure': 'SONNBLICK_pressure'\n",
    "}\n",
    "\n",
    "# Create new columns and also create source columns indicating where the data was copied from\n",
    "for new_column, source_column in column_mapping.items():\n",
    "    unscaled[new_column] = unscaled[source_column]\n",
    "    unscaled[f\"{new_column}_source\"] = source_column\n",
    "\n",
    "# Create a DataFrame with only the new columns and their sources\n",
    "new_columns_with_sources = unscaled[[col for pair in column_mapping.items() for col in pair]]\n",
    "\n",
    "# Display the DataFrame with the new columns and their source columns\n",
    "print(\"Updated DataFrame with new columns and their sources:\")\n",
    "print(new_columns_with_sources.head())\n"
   ]
  },
  {
   "cell_type": "code",
   "execution_count": 21,
   "id": "38f9c6fa",
   "metadata": {},
   "outputs": [
    {
     "data": {
      "text/plain": [
       "(22950, 140)"
      ]
     },
     "execution_count": 21,
     "metadata": {},
     "output_type": "execute_result"
    }
   ],
   "source": [
    "unscaled.shape # observations dataset has the correct shape before drop 'DATE','MONTH'"
   ]
  },
  {
   "cell_type": "code",
   "execution_count": 22,
   "id": "c7ccfe2d",
   "metadata": {},
   "outputs": [
    {
     "data": {
      "text/html": [
       "<div>\n",
       "<style scoped>\n",
       "    .dataframe tbody tr th:only-of-type {\n",
       "        vertical-align: middle;\n",
       "    }\n",
       "\n",
       "    .dataframe tbody tr th {\n",
       "        vertical-align: top;\n",
       "    }\n",
       "\n",
       "    .dataframe thead th {\n",
       "        text-align: right;\n",
       "    }\n",
       "</style>\n",
       "<table border=\"1\" class=\"dataframe\">\n",
       "  <thead>\n",
       "    <tr style=\"text-align: right;\">\n",
       "      <th></th>\n",
       "      <th>DATE</th>\n",
       "      <th>MONTH</th>\n",
       "      <th>BASEL_cloud_cover</th>\n",
       "      <th>BASEL_humidity</th>\n",
       "      <th>BASEL_pressure</th>\n",
       "      <th>BASEL_global_radiation</th>\n",
       "      <th>BASEL_precipitation</th>\n",
       "      <th>BASEL_sunshine</th>\n",
       "      <th>BASEL_temp_mean</th>\n",
       "      <th>BASEL_temp_min</th>\n",
       "      <th>...</th>\n",
       "      <th>VALENTIA_sunshine</th>\n",
       "      <th>VALENTIA_temp_mean</th>\n",
       "      <th>VALENTIA_temp_min</th>\n",
       "      <th>VALENTIA_temp_max</th>\n",
       "      <th>KASSEL_cloud_cover</th>\n",
       "      <th>STOCKHOLM_humidity</th>\n",
       "      <th>MUNCHENB_pressure</th>\n",
       "      <th>KASSEL_cloud_cover_source</th>\n",
       "      <th>STOCKHOLM_humidity_source</th>\n",
       "      <th>MUNCHENB_pressure_source</th>\n",
       "    </tr>\n",
       "  </thead>\n",
       "  <tbody>\n",
       "    <tr>\n",
       "      <th>0</th>\n",
       "      <td>19600101</td>\n",
       "      <td>1</td>\n",
       "      <td>7</td>\n",
       "      <td>0.85</td>\n",
       "      <td>1.018</td>\n",
       "      <td>0.32</td>\n",
       "      <td>0.09</td>\n",
       "      <td>0.7</td>\n",
       "      <td>6.5</td>\n",
       "      <td>0.8</td>\n",
       "      <td>...</td>\n",
       "      <td>4.7</td>\n",
       "      <td>8.5</td>\n",
       "      <td>6.0</td>\n",
       "      <td>10.9</td>\n",
       "      <td>8</td>\n",
       "      <td>0.98</td>\n",
       "      <td>1.0304</td>\n",
       "      <td>LJUBLJANA_cloud_cover</td>\n",
       "      <td>OSLO_humidity</td>\n",
       "      <td>SONNBLICK_pressure</td>\n",
       "    </tr>\n",
       "    <tr>\n",
       "      <th>1</th>\n",
       "      <td>19600102</td>\n",
       "      <td>1</td>\n",
       "      <td>6</td>\n",
       "      <td>0.84</td>\n",
       "      <td>1.018</td>\n",
       "      <td>0.36</td>\n",
       "      <td>1.05</td>\n",
       "      <td>1.1</td>\n",
       "      <td>6.1</td>\n",
       "      <td>3.3</td>\n",
       "      <td>...</td>\n",
       "      <td>0.7</td>\n",
       "      <td>8.9</td>\n",
       "      <td>5.6</td>\n",
       "      <td>12.1</td>\n",
       "      <td>6</td>\n",
       "      <td>0.62</td>\n",
       "      <td>1.0292</td>\n",
       "      <td>LJUBLJANA_cloud_cover</td>\n",
       "      <td>OSLO_humidity</td>\n",
       "      <td>SONNBLICK_pressure</td>\n",
       "    </tr>\n",
       "    <tr>\n",
       "      <th>2</th>\n",
       "      <td>19600103</td>\n",
       "      <td>1</td>\n",
       "      <td>8</td>\n",
       "      <td>0.90</td>\n",
       "      <td>1.018</td>\n",
       "      <td>0.18</td>\n",
       "      <td>0.30</td>\n",
       "      <td>0.0</td>\n",
       "      <td>8.5</td>\n",
       "      <td>5.1</td>\n",
       "      <td>...</td>\n",
       "      <td>0.1</td>\n",
       "      <td>10.5</td>\n",
       "      <td>8.1</td>\n",
       "      <td>12.9</td>\n",
       "      <td>8</td>\n",
       "      <td>0.69</td>\n",
       "      <td>1.0320</td>\n",
       "      <td>LJUBLJANA_cloud_cover</td>\n",
       "      <td>OSLO_humidity</td>\n",
       "      <td>SONNBLICK_pressure</td>\n",
       "    </tr>\n",
       "    <tr>\n",
       "      <th>3</th>\n",
       "      <td>19600104</td>\n",
       "      <td>1</td>\n",
       "      <td>3</td>\n",
       "      <td>0.92</td>\n",
       "      <td>1.018</td>\n",
       "      <td>0.58</td>\n",
       "      <td>0.00</td>\n",
       "      <td>4.1</td>\n",
       "      <td>6.3</td>\n",
       "      <td>3.8</td>\n",
       "      <td>...</td>\n",
       "      <td>0.0</td>\n",
       "      <td>7.4</td>\n",
       "      <td>7.3</td>\n",
       "      <td>10.6</td>\n",
       "      <td>6</td>\n",
       "      <td>0.98</td>\n",
       "      <td>1.0443</td>\n",
       "      <td>LJUBLJANA_cloud_cover</td>\n",
       "      <td>OSLO_humidity</td>\n",
       "      <td>SONNBLICK_pressure</td>\n",
       "    </tr>\n",
       "    <tr>\n",
       "      <th>4</th>\n",
       "      <td>19600105</td>\n",
       "      <td>1</td>\n",
       "      <td>6</td>\n",
       "      <td>0.95</td>\n",
       "      <td>1.018</td>\n",
       "      <td>0.65</td>\n",
       "      <td>0.14</td>\n",
       "      <td>5.4</td>\n",
       "      <td>3.0</td>\n",
       "      <td>-0.7</td>\n",
       "      <td>...</td>\n",
       "      <td>5.7</td>\n",
       "      <td>5.7</td>\n",
       "      <td>3.0</td>\n",
       "      <td>8.4</td>\n",
       "      <td>7</td>\n",
       "      <td>0.96</td>\n",
       "      <td>1.0430</td>\n",
       "      <td>LJUBLJANA_cloud_cover</td>\n",
       "      <td>OSLO_humidity</td>\n",
       "      <td>SONNBLICK_pressure</td>\n",
       "    </tr>\n",
       "  </tbody>\n",
       "</table>\n",
       "<p>5 rows × 140 columns</p>\n",
       "</div>"
      ],
      "text/plain": [
       "       DATE  MONTH  BASEL_cloud_cover  BASEL_humidity  BASEL_pressure  \\\n",
       "0  19600101      1                  7            0.85           1.018   \n",
       "1  19600102      1                  6            0.84           1.018   \n",
       "2  19600103      1                  8            0.90           1.018   \n",
       "3  19600104      1                  3            0.92           1.018   \n",
       "4  19600105      1                  6            0.95           1.018   \n",
       "\n",
       "   BASEL_global_radiation  BASEL_precipitation  BASEL_sunshine  \\\n",
       "0                    0.32                 0.09             0.7   \n",
       "1                    0.36                 1.05             1.1   \n",
       "2                    0.18                 0.30             0.0   \n",
       "3                    0.58                 0.00             4.1   \n",
       "4                    0.65                 0.14             5.4   \n",
       "\n",
       "   BASEL_temp_mean  BASEL_temp_min  ...  VALENTIA_sunshine  \\\n",
       "0              6.5             0.8  ...                4.7   \n",
       "1              6.1             3.3  ...                0.7   \n",
       "2              8.5             5.1  ...                0.1   \n",
       "3              6.3             3.8  ...                0.0   \n",
       "4              3.0            -0.7  ...                5.7   \n",
       "\n",
       "   VALENTIA_temp_mean  VALENTIA_temp_min  VALENTIA_temp_max  \\\n",
       "0                 8.5                6.0               10.9   \n",
       "1                 8.9                5.6               12.1   \n",
       "2                10.5                8.1               12.9   \n",
       "3                 7.4                7.3               10.6   \n",
       "4                 5.7                3.0                8.4   \n",
       "\n",
       "   KASSEL_cloud_cover  STOCKHOLM_humidity  MUNCHENB_pressure  \\\n",
       "0                   8                0.98             1.0304   \n",
       "1                   6                0.62             1.0292   \n",
       "2                   8                0.69             1.0320   \n",
       "3                   6                0.98             1.0443   \n",
       "4                   7                0.96             1.0430   \n",
       "\n",
       "   KASSEL_cloud_cover_source  STOCKHOLM_humidity_source  \\\n",
       "0      LJUBLJANA_cloud_cover              OSLO_humidity   \n",
       "1      LJUBLJANA_cloud_cover              OSLO_humidity   \n",
       "2      LJUBLJANA_cloud_cover              OSLO_humidity   \n",
       "3      LJUBLJANA_cloud_cover              OSLO_humidity   \n",
       "4      LJUBLJANA_cloud_cover              OSLO_humidity   \n",
       "\n",
       "   MUNCHENB_pressure_source  \n",
       "0        SONNBLICK_pressure  \n",
       "1        SONNBLICK_pressure  \n",
       "2        SONNBLICK_pressure  \n",
       "3        SONNBLICK_pressure  \n",
       "4        SONNBLICK_pressure  \n",
       "\n",
       "[5 rows x 140 columns]"
      ]
     },
     "execution_count": 22,
     "metadata": {},
     "output_type": "execute_result"
    }
   ],
   "source": [
    "unscaled.head()"
   ]
  },
  {
   "cell_type": "code",
   "execution_count": 23,
   "id": "b6aec92d",
   "metadata": {},
   "outputs": [
    {
     "name": "stdout",
     "output_type": "stream",
     "text": [
      "Column names in the DataFrame:\n",
      "['DATE', 'MONTH', 'BASEL_cloud_cover', 'BASEL_humidity', 'BASEL_pressure', 'BASEL_global_radiation', 'BASEL_precipitation', 'BASEL_sunshine', 'BASEL_temp_mean', 'BASEL_temp_min', 'BASEL_temp_max', 'BELGRADE_cloud_cover', 'BELGRADE_humidity', 'BELGRADE_pressure', 'BELGRADE_global_radiation', 'BELGRADE_precipitation', 'BELGRADE_sunshine', 'BELGRADE_temp_mean', 'BELGRADE_temp_min', 'BELGRADE_temp_max', 'BUDAPEST_cloud_cover', 'BUDAPEST_humidity', 'BUDAPEST_pressure', 'BUDAPEST_global_radiation', 'BUDAPEST_precipitation', 'BUDAPEST_sunshine', 'BUDAPEST_temp_mean', 'BUDAPEST_temp_min', 'BUDAPEST_temp_max', 'DEBILT_cloud_cover', 'DEBILT_humidity', 'DEBILT_pressure', 'DEBILT_global_radiation', 'DEBILT_precipitation', 'DEBILT_sunshine', 'DEBILT_temp_mean', 'DEBILT_temp_min', 'DEBILT_temp_max', 'DUSSELDORF_cloud_cover', 'DUSSELDORF_humidity', 'DUSSELDORF_pressure', 'DUSSELDORF_global_radiation', 'DUSSELDORF_precipitation', 'DUSSELDORF_sunshine', 'DUSSELDORF_temp_mean', 'DUSSELDORF_temp_min', 'DUSSELDORF_temp_max', 'HEATHROW_cloud_cover', 'HEATHROW_humidity', 'HEATHROW_pressure', 'HEATHROW_global_radiation', 'HEATHROW_precipitation', 'HEATHROW_sunshine', 'HEATHROW_temp_mean', 'HEATHROW_temp_min', 'HEATHROW_temp_max', 'KASSEL_humidity', 'KASSEL_pressure', 'KASSEL_global_radiation', 'KASSEL_precipitation', 'KASSEL_sunshine', 'KASSEL_temp_mean', 'KASSEL_temp_min', 'KASSEL_temp_max', 'LJUBLJANA_cloud_cover', 'LJUBLJANA_humidity', 'LJUBLJANA_pressure', 'LJUBLJANA_global_radiation', 'LJUBLJANA_precipitation', 'LJUBLJANA_sunshine', 'LJUBLJANA_temp_mean', 'LJUBLJANA_temp_min', 'LJUBLJANA_temp_max', 'MAASTRICHT_cloud_cover', 'MAASTRICHT_humidity', 'MAASTRICHT_pressure', 'MAASTRICHT_global_radiation', 'MAASTRICHT_precipitation', 'MAASTRICHT_sunshine', 'MAASTRICHT_temp_mean', 'MAASTRICHT_temp_min', 'MAASTRICHT_temp_max', 'MADRID_cloud_cover', 'MADRID_humidity', 'MADRID_pressure', 'MADRID_global_radiation', 'MADRID_precipitation', 'MADRID_sunshine', 'MADRID_temp_mean', 'MADRID_temp_min', 'MADRID_temp_max', 'MUNCHENB_cloud_cover', 'MUNCHENB_humidity', 'MUNCHENB_global_radiation', 'MUNCHENB_precipitation', 'MUNCHENB_sunshine', 'MUNCHENB_temp_mean', 'MUNCHENB_temp_min', 'MUNCHENB_temp_max', 'OSLO_cloud_cover', 'OSLO_humidity', 'OSLO_pressure', 'OSLO_global_radiation', 'OSLO_precipitation', 'OSLO_sunshine', 'OSLO_temp_mean', 'OSLO_temp_min', 'OSLO_temp_max', 'SONNBLICK_cloud_cover', 'SONNBLICK_humidity', 'SONNBLICK_pressure', 'SONNBLICK_global_radiation', 'SONNBLICK_precipitation', 'SONNBLICK_sunshine', 'SONNBLICK_temp_mean', 'SONNBLICK_temp_min', 'SONNBLICK_temp_max', 'STOCKHOLM_cloud_cover', 'STOCKHOLM_pressure', 'STOCKHOLM_global_radiation', 'STOCKHOLM_precipitation', 'STOCKHOLM_sunshine', 'STOCKHOLM_temp_mean', 'STOCKHOLM_temp_min', 'STOCKHOLM_temp_max', 'VALENTIA_cloud_cover', 'VALENTIA_humidity', 'VALENTIA_pressure', 'VALENTIA_global_radiation', 'VALENTIA_precipitation', 'VALENTIA_sunshine', 'VALENTIA_temp_mean', 'VALENTIA_temp_min', 'VALENTIA_temp_max', 'KASSEL_cloud_cover', 'STOCKHOLM_humidity', 'MUNCHENB_pressure', 'KASSEL_cloud_cover_source', 'STOCKHOLM_humidity_source', 'MUNCHENB_pressure_source']\n"
     ]
    }
   ],
   "source": [
    "# Display all column names in the DataFrame\n",
    "print(\"Column names in the DataFrame:\")\n",
    "print(unscaled.columns.tolist())"
   ]
  },
  {
   "cell_type": "code",
   "execution_count": 24,
   "id": "4b2142f1",
   "metadata": {},
   "outputs": [
    {
     "name": "stdout",
     "output_type": "stream",
     "text": [
      "Updated DataFrame after dropping the specified columns:\n",
      "       DATE  MONTH  BASEL_cloud_cover  BASEL_humidity  BASEL_pressure  \\\n",
      "0  19600101      1                  7            0.85           1.018   \n",
      "1  19600102      1                  6            0.84           1.018   \n",
      "2  19600103      1                  8            0.90           1.018   \n",
      "3  19600104      1                  3            0.92           1.018   \n",
      "4  19600105      1                  6            0.95           1.018   \n",
      "\n",
      "   BASEL_global_radiation  BASEL_precipitation  BASEL_sunshine  \\\n",
      "0                    0.32                 0.09             0.7   \n",
      "1                    0.36                 1.05             1.1   \n",
      "2                    0.18                 0.30             0.0   \n",
      "3                    0.58                 0.00             4.1   \n",
      "4                    0.65                 0.14             5.4   \n",
      "\n",
      "   BASEL_temp_mean  BASEL_temp_min  ...  VALENTIA_pressure  \\\n",
      "0              6.5             0.8  ...             1.0003   \n",
      "1              6.1             3.3  ...             1.0007   \n",
      "2              8.5             5.1  ...             1.0096   \n",
      "3              6.3             3.8  ...             1.0184   \n",
      "4              3.0            -0.7  ...             1.0328   \n",
      "\n",
      "   VALENTIA_global_radiation  VALENTIA_precipitation  VALENTIA_sunshine  \\\n",
      "0                       0.45                    0.34                4.7   \n",
      "1                       0.25                    0.84                0.7   \n",
      "2                       0.17                    0.08                0.1   \n",
      "3                       0.13                    0.98                0.0   \n",
      "4                       0.46                    0.00                5.7   \n",
      "\n",
      "   VALENTIA_temp_mean  VALENTIA_temp_min  VALENTIA_temp_max  \\\n",
      "0                 8.5                6.0               10.9   \n",
      "1                 8.9                5.6               12.1   \n",
      "2                10.5                8.1               12.9   \n",
      "3                 7.4                7.3               10.6   \n",
      "4                 5.7                3.0                8.4   \n",
      "\n",
      "   KASSEL_cloud_cover  STOCKHOLM_humidity  MUNCHENB_pressure  \n",
      "0                   8                0.98             1.0304  \n",
      "1                   6                0.62             1.0292  \n",
      "2                   8                0.69             1.0320  \n",
      "3                   6                0.98             1.0443  \n",
      "4                   7                0.96             1.0430  \n",
      "\n",
      "[5 rows x 137 columns]\n"
     ]
    }
   ],
   "source": [
    "# List of columns to drop\n",
    "columns_to_drop = ['KASSEL_cloud_cover_source', 'STOCKHOLM_humidity_source', 'MUNCHENB_pressure_source']\n",
    "\n",
    "# Drop the specified columns\n",
    "unscaled = unscaled.drop(columns=columns_to_drop, errors='ignore')\n",
    "\n",
    "# Display the updated DataFrame\n",
    "print(\"Updated DataFrame after dropping the specified columns:\")\n",
    "print(unscaled.head())\n",
    "\n"
   ]
  },
  {
   "cell_type": "code",
   "execution_count": 25,
   "id": "a484f784",
   "metadata": {},
   "outputs": [
    {
     "data": {
      "text/plain": [
       "(22950, 137)"
      ]
     },
     "execution_count": 25,
     "metadata": {},
     "output_type": "execute_result"
    }
   ],
   "source": [
    "unscaled.shape"
   ]
  },
  {
   "cell_type": "code",
   "execution_count": 26,
   "id": "216085bf",
   "metadata": {},
   "outputs": [],
   "source": [
    "# Drop unnecessary columns\n",
    "\n",
    "unscaled.drop(['DATE', 'MONTH'], axis=1, inplace=True)"
   ]
  },
  {
   "cell_type": "code",
   "execution_count": 27,
   "id": "5ec04a1b",
   "metadata": {},
   "outputs": [
    {
     "data": {
      "text/plain": [
       "(22950, 135)"
      ]
     },
     "execution_count": 27,
     "metadata": {},
     "output_type": "execute_result"
    }
   ],
   "source": [
    "unscaled.shape # observations dataset has the correct shape"
   ]
  },
  {
   "cell_type": "code",
   "execution_count": 28,
   "id": "8de464ba",
   "metadata": {},
   "outputs": [
    {
     "data": {
      "text/plain": [
       "(22950, 16)"
      ]
     },
     "execution_count": 28,
     "metadata": {},
     "output_type": "execute_result"
    }
   ],
   "source": [
    "pleasant.shape"
   ]
  },
  {
   "cell_type": "code",
   "execution_count": 29,
   "id": "cf817626",
   "metadata": {},
   "outputs": [],
   "source": [
    "pleasant.drop(columns = 'DATE', inplace = True)"
   ]
  },
  {
   "cell_type": "code",
   "execution_count": 30,
   "id": "d4b9679d",
   "metadata": {},
   "outputs": [
    {
     "data": {
      "text/plain": [
       "(22950, 15)"
      ]
     },
     "execution_count": 30,
     "metadata": {},
     "output_type": "execute_result"
    }
   ],
   "source": [
    "pleasant.shape"
   ]
  },
  {
   "cell_type": "code",
   "execution_count": 31,
   "id": "b1710186",
   "metadata": {},
   "outputs": [],
   "source": [
    "# Export cleaned dataset\n",
    "\n",
    "unscaled.to_csv(os.path.join(path, 'X_cleaned.csv'), index=False)"
   ]
  },
  {
   "cell_type": "markdown",
   "id": "055f87ec",
   "metadata": {},
   "source": [
    "### 3. Reshaping for modeling\n",
    "- Ensure the layers can be fed to the deep learning model correctly.\n",
    "- You’ll need to split the observations (X) into 15 groups of 9 types of observations, and your labels (y) should also be in 15 groups (it doesn’t need to be transformed or reshaped).\n",
    "- The final shapes should be X = (22950, 15, 9) and y = (22950, 15)."
   ]
  },
  {
   "cell_type": "code",
   "execution_count": 32,
   "id": "1ef86da4",
   "metadata": {},
   "outputs": [],
   "source": [
    "X = pd.read_csv(os.path.join(path, 'X_cleaned.csv'), index_col = False)"
   ]
  },
  {
   "cell_type": "code",
   "execution_count": 33,
   "id": "d2204030",
   "metadata": {},
   "outputs": [],
   "source": [
    "y = pleasant"
   ]
  },
  {
   "cell_type": "code",
   "execution_count": 34,
   "id": "6dddcb1b",
   "metadata": {},
   "outputs": [
    {
     "data": {
      "text/plain": [
       "(22950, 15)"
      ]
     },
     "execution_count": 34,
     "metadata": {},
     "output_type": "execute_result"
    }
   ],
   "source": [
    "y.shape"
   ]
  },
  {
   "cell_type": "code",
   "execution_count": 35,
   "id": "ab603d40",
   "metadata": {},
   "outputs": [],
   "source": [
    "# Turn X and y from a df to arrays\n",
    "\n",
    "X = np.array(X)\n",
    "y = np.array(y)"
   ]
  },
  {
   "cell_type": "code",
   "execution_count": 36,
   "id": "d1e9019c",
   "metadata": {},
   "outputs": [],
   "source": [
    "X = X.reshape(-1,15,9)"
   ]
  },
  {
   "cell_type": "code",
   "execution_count": 37,
   "id": "77675c25",
   "metadata": {},
   "outputs": [
    {
     "data": {
      "text/plain": [
       "(22950, 15, 9)"
      ]
     },
     "execution_count": 37,
     "metadata": {},
     "output_type": "execute_result"
    }
   ],
   "source": [
    "X.shape"
   ]
  },
  {
   "cell_type": "code",
   "execution_count": 38,
   "id": "2e0b3028",
   "metadata": {},
   "outputs": [
    {
     "data": {
      "text/plain": [
       "array([[[ 7.0000e+00,  8.5000e-01,  1.0180e+00, ...,  6.5000e+00,\n",
       "          8.0000e-01,  1.0900e+01],\n",
       "        [ 1.0000e+00,  8.1000e-01,  1.0195e+00, ...,  3.7000e+00,\n",
       "         -9.0000e-01,  7.9000e+00],\n",
       "        [ 4.0000e+00,  6.7000e-01,  1.0170e+00, ...,  2.4000e+00,\n",
       "         -4.0000e-01,  5.1000e+00],\n",
       "        ...,\n",
       "        [ 1.0304e+00,  4.8000e-01,  1.0000e-02, ..., -3.2000e+00,\n",
       "          5.0000e+00,  1.0114e+00],\n",
       "        [ 5.0000e-02,  3.2000e-01,  0.0000e+00, ...,  5.0000e+00,\n",
       "          8.8000e-01,  1.0003e+00],\n",
       "        [ 4.5000e-01,  3.4000e-01,  4.7000e+00, ...,  8.0000e+00,\n",
       "          9.8000e-01,  1.0304e+00]],\n",
       "\n",
       "       [[ 6.0000e+00,  8.4000e-01,  1.0180e+00, ...,  6.1000e+00,\n",
       "          3.3000e+00,  1.0100e+01],\n",
       "        [ 6.0000e+00,  8.4000e-01,  1.0172e+00, ...,  2.9000e+00,\n",
       "          2.2000e+00,  4.4000e+00],\n",
       "        [ 4.0000e+00,  6.7000e-01,  1.0170e+00, ...,  2.3000e+00,\n",
       "          1.4000e+00,  3.1000e+00],\n",
       "        ...,\n",
       "        [ 1.0292e+00,  2.1000e-01,  6.1000e-01, ..., -8.5000e+00,\n",
       "          5.0000e+00,  1.0114e+00],\n",
       "        [ 5.0000e-02,  6.0000e-02,  0.0000e+00, ...,  7.0000e+00,\n",
       "          9.1000e-01,  1.0007e+00],\n",
       "        [ 2.5000e-01,  8.4000e-01,  7.0000e-01, ...,  6.0000e+00,\n",
       "          6.2000e-01,  1.0292e+00]],\n",
       "\n",
       "       [[ 8.0000e+00,  9.0000e-01,  1.0180e+00, ...,  8.5000e+00,\n",
       "          5.1000e+00,  9.9000e+00],\n",
       "        [ 6.0000e+00,  7.7000e-01,  1.0179e+00, ...,  3.1000e+00,\n",
       "         -5.0000e-01,  6.4000e+00],\n",
       "        [ 4.0000e+00,  6.7000e-01,  1.0170e+00, ...,  2.7000e+00,\n",
       "          1.7000e+00,  5.3000e+00],\n",
       "        ...,\n",
       "        [ 1.0320e+00,  2.1000e-01,  3.2000e+00, ..., -8.9000e+00,\n",
       "          5.0000e+00,  1.0114e+00],\n",
       "        [ 5.0000e-02,  2.0000e-02,  0.0000e+00, ...,  7.0000e+00,\n",
       "          9.1000e-01,  1.0096e+00],\n",
       "        [ 1.7000e-01,  8.0000e-02,  1.0000e-01, ...,  8.0000e+00,\n",
       "          6.9000e-01,  1.0320e+00]],\n",
       "\n",
       "       ...,\n",
       "\n",
       "       [[ 4.0000e+00,  7.6000e-01,  1.0227e+00, ...,  1.6700e+01,\n",
       "          1.3100e+01,  2.2400e+01],\n",
       "        [ 2.0000e+00,  6.8000e-01,  1.0278e+00, ...,  1.3400e+01,\n",
       "          8.6000e+00,  1.8200e+01],\n",
       "        [ 4.0000e+00,  6.7000e-01,  1.0170e+00, ...,  1.1700e+01,\n",
       "          7.9000e+00,  1.6200e+01],\n",
       "        ...,\n",
       "        [ 1.0263e+00,  1.5600e+00,  4.7000e-01, ...,  4.5000e+00,\n",
       "          5.0000e+00,  1.0059e+00],\n",
       "        [ 1.1100e+00,  1.4000e-01,  6.9000e+00, ...,  5.0000e+00,\n",
       "          8.2000e-01,  1.0142e+00],\n",
       "        [ 1.1300e+00,  4.1000e-01,  3.4000e+00, ...,  3.0000e+00,\n",
       "          8.5000e-01,  1.0263e+00]],\n",
       "\n",
       "       [[ 5.0000e+00,  8.0000e-01,  1.0212e+00, ...,  1.5400e+01,\n",
       "          1.1600e+01,  2.1100e+01],\n",
       "        [ 1.0000e+00,  6.8000e-01,  1.0238e+00, ...,  1.5000e+01,\n",
       "          9.1000e+00,  2.0900e+01],\n",
       "        [ 4.0000e+00,  6.7000e-01,  1.0170e+00, ...,  1.1700e+01,\n",
       "          7.9000e+00,  1.6200e+01],\n",
       "        ...,\n",
       "        [ 1.0263e+00,  1.5600e+00,  4.7000e-01, ...,  4.1000e+00,\n",
       "          5.0000e+00,  1.0160e+00],\n",
       "        [ 1.1100e+00,  1.4000e-01,  8.4000e+00, ...,  5.0000e+00,\n",
       "          8.2000e-01,  1.0142e+00],\n",
       "        [ 1.1300e+00,  4.1000e-01,  3.4000e+00, ...,  3.0000e+00,\n",
       "          9.4000e-01,  1.0263e+00]],\n",
       "\n",
       "       [[ 5.0000e+00,  8.4000e-01,  1.0193e+00, ...,  1.3500e+01,\n",
       "          9.9000e+00,  1.9200e+01],\n",
       "        [ 4.0000e+00,  6.8000e-01,  1.0235e+00, ...,  1.4400e+01,\n",
       "          1.0400e+01,  1.8400e+01],\n",
       "        [ 4.0000e+00,  6.7000e-01,  1.0170e+00, ...,  1.1700e+01,\n",
       "          7.9000e+00,  1.6200e+01],\n",
       "        ...,\n",
       "        [ 1.0263e+00,  1.5600e+00,  4.7000e-01, ...,  2.7000e+00,\n",
       "          5.0000e+00,  1.0164e+00],\n",
       "        [ 1.1100e+00,  1.4000e-01,  4.0000e-01, ...,  5.0000e+00,\n",
       "          8.2000e-01,  1.0142e+00],\n",
       "        [ 1.1300e+00,  4.1000e-01,  3.4000e+00, ...,  3.0000e+00,\n",
       "          9.7000e-01,  1.0263e+00]]])"
      ]
     },
     "execution_count": 38,
     "metadata": {},
     "output_type": "execute_result"
    }
   ],
   "source": [
    "# Verify shape\n",
    "\n",
    "X"
   ]
  },
  {
   "cell_type": "markdown",
   "id": "76c9d65b",
   "metadata": {},
   "source": [
    "### 4. Data Split "
   ]
  },
  {
   "cell_type": "code",
   "execution_count": 39,
   "id": "86640c78",
   "metadata": {},
   "outputs": [],
   "source": [
    "# Split data into train and test sets\n",
    "\n",
    "X_train, X_test, y_train, y_test = train_test_split(X,y,random_state = 42)"
   ]
  },
  {
   "cell_type": "code",
   "execution_count": 40,
   "id": "67074bdc",
   "metadata": {},
   "outputs": [
    {
     "name": "stdout",
     "output_type": "stream",
     "text": [
      "(17212, 15, 9) (17212, 15)\n",
      "(5738, 15, 9) (5738, 15)\n"
     ]
    }
   ],
   "source": [
    "print(X_train.shape, y_train.shape)\n",
    "print(X_test.shape, y_test.shape)"
   ]
  },
  {
   "cell_type": "markdown",
   "id": "49e59f22",
   "metadata": {},
   "source": [
    "### 5. Creating Keras Model"
   ]
  },
  {
   "cell_type": "code",
   "execution_count": 41,
   "id": "c80e575a",
   "metadata": {},
   "outputs": [],
   "source": [
    "epochs = 30\n",
    "batch_size = 16\n",
    "n_hidden = 32\n",
    "\n",
    "timesteps = len(X_train[0])\n",
    "input_dim = len(X_train[0][0])\n",
    "n_classes = len(y_train[0])\n",
    "\n",
    "model = Sequential()\n",
    "model.add(Conv1D(n_hidden, kernel_size=2, activation='relu', input_shape=(timesteps, input_dim)))\n",
    "model.add(Dense(16, activation='relu'))\n",
    "model.add(MaxPooling1D())\n",
    "model.add(Flatten())\n",
    "model.add(Dense(n_classes, activation='softmax')) # Options: sigmoid, tanh, softmax, relu"
   ]
  },
  {
   "cell_type": "code",
   "execution_count": 42,
   "id": "e3aeb085",
   "metadata": {},
   "outputs": [
    {
     "data": {
      "text/html": [
       "<pre style=\"white-space:pre;overflow-x:auto;line-height:normal;font-family:Menlo,'DejaVu Sans Mono',consolas,'Courier New',monospace\"><span style=\"font-weight: bold\">Model: \"sequential\"</span>\n",
       "</pre>\n"
      ],
      "text/plain": [
       "\u001b[1mModel: \"sequential\"\u001b[0m\n"
      ]
     },
     "metadata": {},
     "output_type": "display_data"
    },
    {
     "data": {
      "text/html": [
       "<pre style=\"white-space:pre;overflow-x:auto;line-height:normal;font-family:Menlo,'DejaVu Sans Mono',consolas,'Courier New',monospace\">┏━━━━━━━━━━━━━━━━━━━━━━━━━━━━━━━━━━━━━━┳━━━━━━━━━━━━━━━━━━━━━━━━━━━━━┳━━━━━━━━━━━━━━━━━┓\n",
       "┃<span style=\"font-weight: bold\"> Layer (type)                         </span>┃<span style=\"font-weight: bold\"> Output Shape                </span>┃<span style=\"font-weight: bold\">         Param # </span>┃\n",
       "┡━━━━━━━━━━━━━━━━━━━━━━━━━━━━━━━━━━━━━━╇━━━━━━━━━━━━━━━━━━━━━━━━━━━━━╇━━━━━━━━━━━━━━━━━┩\n",
       "│ conv1d (<span style=\"color: #0087ff; text-decoration-color: #0087ff\">Conv1D</span>)                      │ (<span style=\"color: #00d7ff; text-decoration-color: #00d7ff\">None</span>, <span style=\"color: #00af00; text-decoration-color: #00af00\">14</span>, <span style=\"color: #00af00; text-decoration-color: #00af00\">32</span>)              │             <span style=\"color: #00af00; text-decoration-color: #00af00\">608</span> │\n",
       "├──────────────────────────────────────┼─────────────────────────────┼─────────────────┤\n",
       "│ dense (<span style=\"color: #0087ff; text-decoration-color: #0087ff\">Dense</span>)                        │ (<span style=\"color: #00d7ff; text-decoration-color: #00d7ff\">None</span>, <span style=\"color: #00af00; text-decoration-color: #00af00\">14</span>, <span style=\"color: #00af00; text-decoration-color: #00af00\">16</span>)              │             <span style=\"color: #00af00; text-decoration-color: #00af00\">528</span> │\n",
       "├──────────────────────────────────────┼─────────────────────────────┼─────────────────┤\n",
       "│ max_pooling1d (<span style=\"color: #0087ff; text-decoration-color: #0087ff\">MaxPooling1D</span>)         │ (<span style=\"color: #00d7ff; text-decoration-color: #00d7ff\">None</span>, <span style=\"color: #00af00; text-decoration-color: #00af00\">7</span>, <span style=\"color: #00af00; text-decoration-color: #00af00\">16</span>)               │               <span style=\"color: #00af00; text-decoration-color: #00af00\">0</span> │\n",
       "├──────────────────────────────────────┼─────────────────────────────┼─────────────────┤\n",
       "│ flatten (<span style=\"color: #0087ff; text-decoration-color: #0087ff\">Flatten</span>)                    │ (<span style=\"color: #00d7ff; text-decoration-color: #00d7ff\">None</span>, <span style=\"color: #00af00; text-decoration-color: #00af00\">112</span>)                 │               <span style=\"color: #00af00; text-decoration-color: #00af00\">0</span> │\n",
       "├──────────────────────────────────────┼─────────────────────────────┼─────────────────┤\n",
       "│ dense_1 (<span style=\"color: #0087ff; text-decoration-color: #0087ff\">Dense</span>)                      │ (<span style=\"color: #00d7ff; text-decoration-color: #00d7ff\">None</span>, <span style=\"color: #00af00; text-decoration-color: #00af00\">15</span>)                  │           <span style=\"color: #00af00; text-decoration-color: #00af00\">1,695</span> │\n",
       "└──────────────────────────────────────┴─────────────────────────────┴─────────────────┘\n",
       "</pre>\n"
      ],
      "text/plain": [
       "┏━━━━━━━━━━━━━━━━━━━━━━━━━━━━━━━━━━━━━━┳━━━━━━━━━━━━━━━━━━━━━━━━━━━━━┳━━━━━━━━━━━━━━━━━┓\n",
       "┃\u001b[1m \u001b[0m\u001b[1mLayer (type)                        \u001b[0m\u001b[1m \u001b[0m┃\u001b[1m \u001b[0m\u001b[1mOutput Shape               \u001b[0m\u001b[1m \u001b[0m┃\u001b[1m \u001b[0m\u001b[1m        Param #\u001b[0m\u001b[1m \u001b[0m┃\n",
       "┡━━━━━━━━━━━━━━━━━━━━━━━━━━━━━━━━━━━━━━╇━━━━━━━━━━━━━━━━━━━━━━━━━━━━━╇━━━━━━━━━━━━━━━━━┩\n",
       "│ conv1d (\u001b[38;5;33mConv1D\u001b[0m)                      │ (\u001b[38;5;45mNone\u001b[0m, \u001b[38;5;34m14\u001b[0m, \u001b[38;5;34m32\u001b[0m)              │             \u001b[38;5;34m608\u001b[0m │\n",
       "├──────────────────────────────────────┼─────────────────────────────┼─────────────────┤\n",
       "│ dense (\u001b[38;5;33mDense\u001b[0m)                        │ (\u001b[38;5;45mNone\u001b[0m, \u001b[38;5;34m14\u001b[0m, \u001b[38;5;34m16\u001b[0m)              │             \u001b[38;5;34m528\u001b[0m │\n",
       "├──────────────────────────────────────┼─────────────────────────────┼─────────────────┤\n",
       "│ max_pooling1d (\u001b[38;5;33mMaxPooling1D\u001b[0m)         │ (\u001b[38;5;45mNone\u001b[0m, \u001b[38;5;34m7\u001b[0m, \u001b[38;5;34m16\u001b[0m)               │               \u001b[38;5;34m0\u001b[0m │\n",
       "├──────────────────────────────────────┼─────────────────────────────┼─────────────────┤\n",
       "│ flatten (\u001b[38;5;33mFlatten\u001b[0m)                    │ (\u001b[38;5;45mNone\u001b[0m, \u001b[38;5;34m112\u001b[0m)                 │               \u001b[38;5;34m0\u001b[0m │\n",
       "├──────────────────────────────────────┼─────────────────────────────┼─────────────────┤\n",
       "│ dense_1 (\u001b[38;5;33mDense\u001b[0m)                      │ (\u001b[38;5;45mNone\u001b[0m, \u001b[38;5;34m15\u001b[0m)                  │           \u001b[38;5;34m1,695\u001b[0m │\n",
       "└──────────────────────────────────────┴─────────────────────────────┴─────────────────┘\n"
      ]
     },
     "metadata": {},
     "output_type": "display_data"
    },
    {
     "data": {
      "text/html": [
       "<pre style=\"white-space:pre;overflow-x:auto;line-height:normal;font-family:Menlo,'DejaVu Sans Mono',consolas,'Courier New',monospace\"><span style=\"font-weight: bold\"> Total params: </span><span style=\"color: #00af00; text-decoration-color: #00af00\">2,831</span> (11.06 KB)\n",
       "</pre>\n"
      ],
      "text/plain": [
       "\u001b[1m Total params: \u001b[0m\u001b[38;5;34m2,831\u001b[0m (11.06 KB)\n"
      ]
     },
     "metadata": {},
     "output_type": "display_data"
    },
    {
     "data": {
      "text/html": [
       "<pre style=\"white-space:pre;overflow-x:auto;line-height:normal;font-family:Menlo,'DejaVu Sans Mono',consolas,'Courier New',monospace\"><span style=\"font-weight: bold\"> Trainable params: </span><span style=\"color: #00af00; text-decoration-color: #00af00\">2,831</span> (11.06 KB)\n",
       "</pre>\n"
      ],
      "text/plain": [
       "\u001b[1m Trainable params: \u001b[0m\u001b[38;5;34m2,831\u001b[0m (11.06 KB)\n"
      ]
     },
     "metadata": {},
     "output_type": "display_data"
    },
    {
     "data": {
      "text/html": [
       "<pre style=\"white-space:pre;overflow-x:auto;line-height:normal;font-family:Menlo,'DejaVu Sans Mono',consolas,'Courier New',monospace\"><span style=\"font-weight: bold\"> Non-trainable params: </span><span style=\"color: #00af00; text-decoration-color: #00af00\">0</span> (0.00 B)\n",
       "</pre>\n"
      ],
      "text/plain": [
       "\u001b[1m Non-trainable params: \u001b[0m\u001b[38;5;34m0\u001b[0m (0.00 B)\n"
      ]
     },
     "metadata": {},
     "output_type": "display_data"
    }
   ],
   "source": [
    "model.summary()"
   ]
  },
  {
   "cell_type": "markdown",
   "id": "c14f6124",
   "metadata": {},
   "source": [
    "### 6. Compiling and Running"
   ]
  },
  {
   "cell_type": "code",
   "execution_count": 43,
   "id": "b4aa23bd",
   "metadata": {},
   "outputs": [],
   "source": [
    "model.compile(loss='categorical_crossentropy', optimizer='adam', metrics=['accuracy'])"
   ]
  },
  {
   "cell_type": "code",
   "execution_count": 44,
   "id": "b3bb291d",
   "metadata": {},
   "outputs": [
    {
     "name": "stdout",
     "output_type": "stream",
     "text": [
      "Epoch 1/30\n",
      "1076/1076 - 5s - 5ms/step - accuracy: 0.1125 - loss: 6222.5947\n",
      "Epoch 2/30\n",
      "1076/1076 - 4s - 4ms/step - accuracy: 0.1235 - loss: 60038.9570\n",
      "Epoch 3/30\n",
      "1076/1076 - 4s - 4ms/step - accuracy: 0.1278 - loss: 212273.4531\n",
      "Epoch 4/30\n",
      "1076/1076 - 5s - 5ms/step - accuracy: 0.1277 - loss: 450068.5625\n",
      "Epoch 5/30\n",
      "1076/1076 - 4s - 4ms/step - accuracy: 0.1299 - loss: 783681.8750\n",
      "Epoch 6/30\n",
      "1076/1076 - 4s - 4ms/step - accuracy: 0.1272 - loss: 1208232.2500\n",
      "Epoch 7/30\n",
      "1076/1076 - 5s - 5ms/step - accuracy: 0.1279 - loss: 1777504.3750\n",
      "Epoch 8/30\n",
      "1076/1076 - 6s - 5ms/step - accuracy: 0.1265 - loss: 2383678.2500\n",
      "Epoch 9/30\n",
      "1076/1076 - 6s - 5ms/step - accuracy: 0.1310 - loss: 3163902.5000\n",
      "Epoch 10/30\n",
      "1076/1076 - 5s - 4ms/step - accuracy: 0.1310 - loss: 4151258.5000\n",
      "Epoch 11/30\n",
      "1076/1076 - 4s - 4ms/step - accuracy: 0.1263 - loss: 5187986.5000\n",
      "Epoch 12/30\n",
      "1076/1076 - 5s - 5ms/step - accuracy: 0.1293 - loss: 6438430.5000\n",
      "Epoch 13/30\n",
      "1076/1076 - 5s - 5ms/step - accuracy: 0.1269 - loss: 7805362.0000\n",
      "Epoch 14/30\n",
      "1076/1076 - 5s - 5ms/step - accuracy: 0.1282 - loss: 9307050.0000\n",
      "Epoch 15/30\n",
      "1076/1076 - 6s - 5ms/step - accuracy: 0.1227 - loss: 11283335.0000\n",
      "Epoch 16/30\n",
      "1076/1076 - 12s - 11ms/step - accuracy: 0.1273 - loss: 13106678.0000\n",
      "Epoch 17/30\n",
      "1076/1076 - 7s - 7ms/step - accuracy: 0.1238 - loss: 15352632.0000\n",
      "Epoch 18/30\n",
      "1076/1076 - 7s - 7ms/step - accuracy: 0.1284 - loss: 17835988.0000\n",
      "Epoch 19/30\n",
      "1076/1076 - 4s - 4ms/step - accuracy: 0.1265 - loss: 20492404.0000\n",
      "Epoch 20/30\n",
      "1076/1076 - 4s - 4ms/step - accuracy: 0.1254 - loss: 23463414.0000\n",
      "Epoch 21/30\n",
      "1076/1076 - 4s - 4ms/step - accuracy: 0.1242 - loss: 26827980.0000\n",
      "Epoch 22/30\n",
      "1076/1076 - 4s - 4ms/step - accuracy: 0.1270 - loss: 30049176.0000\n",
      "Epoch 23/30\n",
      "1076/1076 - 4s - 4ms/step - accuracy: 0.1292 - loss: 34024432.0000\n",
      "Epoch 24/30\n",
      "1076/1076 - 4s - 4ms/step - accuracy: 0.1276 - loss: 38104036.0000\n",
      "Epoch 25/30\n",
      "1076/1076 - 6s - 6ms/step - accuracy: 0.1283 - loss: 42372128.0000\n",
      "Epoch 26/30\n",
      "1076/1076 - 12s - 11ms/step - accuracy: 0.1244 - loss: 47347928.0000\n",
      "Epoch 27/30\n",
      "1076/1076 - 8s - 8ms/step - accuracy: 0.1258 - loss: 52242440.0000\n",
      "Epoch 28/30\n",
      "1076/1076 - 6s - 6ms/step - accuracy: 0.1278 - loss: 57332556.0000\n",
      "Epoch 29/30\n",
      "1076/1076 - 7s - 6ms/step - accuracy: 0.1250 - loss: 62759536.0000\n",
      "Epoch 30/30\n",
      "1076/1076 - 11s - 10ms/step - accuracy: 0.1268 - loss: 69013736.0000\n"
     ]
    },
    {
     "data": {
      "text/plain": [
       "<keras.src.callbacks.history.History at 0x14310df5cd0>"
      ]
     },
     "execution_count": 44,
     "metadata": {},
     "output_type": "execute_result"
    }
   ],
   "source": [
    "model.fit(X_train, y_train, batch_size=batch_size, epochs=epochs, verbose=2)"
   ]
  },
  {
   "cell_type": "markdown",
   "id": "1c2361c0",
   "metadata": {},
   "source": [
    "### 7. Creating Confusion Matrix"
   ]
  },
  {
   "cell_type": "code",
   "execution_count": 45,
   "id": "0616e3b2",
   "metadata": {},
   "outputs": [],
   "source": [
    "# Define list of stations names\n",
    "\n",
    "stations = {\n",
    "0: 'BASEL',\n",
    "1: 'BELGRADE',\n",
    "2: 'BUDAPEST',\n",
    "3: 'DEBILT',\n",
    "4: 'DUSSELDORF',\n",
    "5: 'HEATHROW',\n",
    "6: 'KASSEL',\n",
    "7: 'LJUBLJANA',\n",
    "8: 'MAASTRICHT',\n",
    "9: 'MADRID',\n",
    "10: 'MUNCHENB',\n",
    "11: 'OSLO',\n",
    "12: 'SONNBLICK',\n",
    "13: 'STOCKHOLM',\n",
    "14: 'VALENTIA'\n",
    "\n",
    "}"
   ]
  },
  {
   "cell_type": "code",
   "execution_count": 46,
   "id": "9eddbaa8",
   "metadata": {},
   "outputs": [],
   "source": [
    "def confusion_matrix(y_true, y_pred):\n",
    "    y_true = pd.Series([stations[y] for y in np.argmax(y_true, axis=1)])\n",
    "    y_pred = pd.Series([stations[y] for y in np.argmax(y_pred, axis=1)])\n",
    "\n",
    "    return pd.crosstab(y_true, y_pred, rownames=['True'], colnames=['Pred'])"
   ]
  },
  {
   "cell_type": "code",
   "execution_count": 47,
   "id": "ffdce1a5",
   "metadata": {},
   "outputs": [
    {
     "name": "stdout",
     "output_type": "stream",
     "text": [
      "\u001b[1m180/180\u001b[0m \u001b[32m━━━━━━━━━━━━━━━━━━━━\u001b[0m\u001b[37m\u001b[0m \u001b[1m1s\u001b[0m 5ms/step\n",
      "Pred        BELGRADE  DEBILT  DUSSELDORF  HEATHROW  KASSEL  LJUBLJANA  \\\n",
      "True                                                                    \n",
      "BASEL            364      36          54       404      14       2027   \n",
      "BELGRADE         149       0           0        18       0        889   \n",
      "BUDAPEST          20       0           0         7       0        174   \n",
      "DEBILT             1       1           0         8       0         58   \n",
      "DUSSELDORF         0       0           0         3       0         22   \n",
      "HEATHROW           1       0           0        16       0         52   \n",
      "KASSEL             0       1           0         1       0          8   \n",
      "LJUBLJANA          2       0           0         1       0         56   \n",
      "MAASTRICHT         0       1           0         1       0          6   \n",
      "MADRID            39       3           0        80       0        231   \n",
      "MUNCHENB           0       0           0         0       0          8   \n",
      "OSLO               0       0           0         0       0          4   \n",
      "STOCKHOLM          0       0           0         0       0          2   \n",
      "VALENTIA           0       0           0         1       0          0   \n",
      "\n",
      "Pred        MAASTRICHT  MADRID  MUNCHENB  OSLO  SONNBLICK  STOCKHOLM  VALENTIA  \n",
      "True                                                                            \n",
      "BASEL               83     224        68     2          4        389        13  \n",
      "BELGRADE             0      12         0     0          0         24         0  \n",
      "BUDAPEST             0       4         0     0          0          9         0  \n",
      "DEBILT               0       2         0     0          0         12         0  \n",
      "DUSSELDORF           0       1         0     0          0          3         0  \n",
      "HEATHROW             0       6         0     0          0          7         0  \n",
      "KASSEL               0       0         0     0          0          1         0  \n",
      "LJUBLJANA            0       0         0     0          0          2         0  \n",
      "MAASTRICHT           0       0         0     0          0          1         0  \n",
      "MADRID               1      94         0     0          0         10         0  \n",
      "MUNCHENB             0       0         0     0          0          0         0  \n",
      "OSLO                 0       0         0     0          0          1         0  \n",
      "STOCKHOLM            0       0         0     0          0          2         0  \n",
      "VALENTIA             0       0         0     0          0          0         0  \n"
     ]
    }
   ],
   "source": [
    "# Evaluate\n",
    "\n",
    "print(confusion_matrix(y_test, model.predict(X_test)))"
   ]
  },
  {
   "cell_type": "code",
   "execution_count": 48,
   "id": "a49eb173",
   "metadata": {},
   "outputs": [
    {
     "name": "stdout",
     "output_type": "stream",
     "text": [
      "\u001b[1m180/180\u001b[0m \u001b[32m━━━━━━━━━━━━━━━━━━━━\u001b[0m\u001b[37m\u001b[0m \u001b[1m1s\u001b[0m 4ms/step\n",
      "\n",
      "Accuracy: 5.54%\n"
     ]
    }
   ],
   "source": [
    "from sklearn.metrics import accuracy_score\n",
    "\n",
    "# Replace `model` with the actual instance of your trained model\n",
    "y_pred = model.predict(X_test)  # Generate predictions from your model\n",
    "\n",
    "# Convert one-hot encoded arrays to label indices\n",
    "true_labels = np.argmax(y_test, axis=1)\n",
    "predicted_labels = np.argmax(y_pred, axis=1)\n",
    "\n",
    "# Calculate and print accuracy\n",
    "accuracy = accuracy_score(true_labels, predicted_labels)\n",
    "print(f\"\\nAccuracy: {accuracy * 100:.2f}%\")"
   ]
  },
  {
   "cell_type": "markdown",
   "id": "66964905",
   "metadata": {},
   "source": [
    "### Keras Model Retrials 2"
   ]
  },
  {
   "cell_type": "code",
   "execution_count": 63,
   "id": "3e840a3c",
   "metadata": {},
   "outputs": [],
   "source": [
    "epochs = 30\n",
    "batch_size = 16\n",
    "n_hidden = 4\n",
    "\n",
    "timesteps = len(X_train[0])\n",
    "input_dim = len(X_train[0][0])\n",
    "n_classes = len(y_train[0])\n",
    "\n",
    "model = Sequential()\n",
    "model.add(Conv1D(n_hidden, kernel_size=2, activation='relu', input_shape=(timesteps, input_dim)))\n",
    "model.add(Dense(16, activation='relu'))\n",
    "model.add(MaxPooling1D())\n",
    "model.add(Flatten())\n",
    "model.add(Dense(n_classes, activation='relu')) # Options: sigmoid, tanh, softmax, relu"
   ]
  },
  {
   "cell_type": "code",
   "execution_count": 64,
   "id": "1229303f",
   "metadata": {},
   "outputs": [
    {
     "data": {
      "text/html": [
       "<pre style=\"white-space:pre;overflow-x:auto;line-height:normal;font-family:Menlo,'DejaVu Sans Mono',consolas,'Courier New',monospace\"><span style=\"font-weight: bold\">Model: \"sequential_3\"</span>\n",
       "</pre>\n"
      ],
      "text/plain": [
       "\u001b[1mModel: \"sequential_3\"\u001b[0m\n"
      ]
     },
     "metadata": {},
     "output_type": "display_data"
    },
    {
     "data": {
      "text/html": [
       "<pre style=\"white-space:pre;overflow-x:auto;line-height:normal;font-family:Menlo,'DejaVu Sans Mono',consolas,'Courier New',monospace\">┏━━━━━━━━━━━━━━━━━━━━━━━━━━━━━━━━━━━━━━┳━━━━━━━━━━━━━━━━━━━━━━━━━━━━━┳━━━━━━━━━━━━━━━━━┓\n",
       "┃<span style=\"font-weight: bold\"> Layer (type)                         </span>┃<span style=\"font-weight: bold\"> Output Shape                </span>┃<span style=\"font-weight: bold\">         Param # </span>┃\n",
       "┡━━━━━━━━━━━━━━━━━━━━━━━━━━━━━━━━━━━━━━╇━━━━━━━━━━━━━━━━━━━━━━━━━━━━━╇━━━━━━━━━━━━━━━━━┩\n",
       "│ conv1d_3 (<span style=\"color: #0087ff; text-decoration-color: #0087ff\">Conv1D</span>)                    │ (<span style=\"color: #00d7ff; text-decoration-color: #00d7ff\">None</span>, <span style=\"color: #00af00; text-decoration-color: #00af00\">14</span>, <span style=\"color: #00af00; text-decoration-color: #00af00\">4</span>)               │              <span style=\"color: #00af00; text-decoration-color: #00af00\">76</span> │\n",
       "├──────────────────────────────────────┼─────────────────────────────┼─────────────────┤\n",
       "│ dense_6 (<span style=\"color: #0087ff; text-decoration-color: #0087ff\">Dense</span>)                      │ (<span style=\"color: #00d7ff; text-decoration-color: #00d7ff\">None</span>, <span style=\"color: #00af00; text-decoration-color: #00af00\">14</span>, <span style=\"color: #00af00; text-decoration-color: #00af00\">16</span>)              │              <span style=\"color: #00af00; text-decoration-color: #00af00\">80</span> │\n",
       "├──────────────────────────────────────┼─────────────────────────────┼─────────────────┤\n",
       "│ max_pooling1d_3 (<span style=\"color: #0087ff; text-decoration-color: #0087ff\">MaxPooling1D</span>)       │ (<span style=\"color: #00d7ff; text-decoration-color: #00d7ff\">None</span>, <span style=\"color: #00af00; text-decoration-color: #00af00\">7</span>, <span style=\"color: #00af00; text-decoration-color: #00af00\">16</span>)               │               <span style=\"color: #00af00; text-decoration-color: #00af00\">0</span> │\n",
       "├──────────────────────────────────────┼─────────────────────────────┼─────────────────┤\n",
       "│ flatten_3 (<span style=\"color: #0087ff; text-decoration-color: #0087ff\">Flatten</span>)                  │ (<span style=\"color: #00d7ff; text-decoration-color: #00d7ff\">None</span>, <span style=\"color: #00af00; text-decoration-color: #00af00\">112</span>)                 │               <span style=\"color: #00af00; text-decoration-color: #00af00\">0</span> │\n",
       "├──────────────────────────────────────┼─────────────────────────────┼─────────────────┤\n",
       "│ dense_7 (<span style=\"color: #0087ff; text-decoration-color: #0087ff\">Dense</span>)                      │ (<span style=\"color: #00d7ff; text-decoration-color: #00d7ff\">None</span>, <span style=\"color: #00af00; text-decoration-color: #00af00\">15</span>)                  │           <span style=\"color: #00af00; text-decoration-color: #00af00\">1,695</span> │\n",
       "└──────────────────────────────────────┴─────────────────────────────┴─────────────────┘\n",
       "</pre>\n"
      ],
      "text/plain": [
       "┏━━━━━━━━━━━━━━━━━━━━━━━━━━━━━━━━━━━━━━┳━━━━━━━━━━━━━━━━━━━━━━━━━━━━━┳━━━━━━━━━━━━━━━━━┓\n",
       "┃\u001b[1m \u001b[0m\u001b[1mLayer (type)                        \u001b[0m\u001b[1m \u001b[0m┃\u001b[1m \u001b[0m\u001b[1mOutput Shape               \u001b[0m\u001b[1m \u001b[0m┃\u001b[1m \u001b[0m\u001b[1m        Param #\u001b[0m\u001b[1m \u001b[0m┃\n",
       "┡━━━━━━━━━━━━━━━━━━━━━━━━━━━━━━━━━━━━━━╇━━━━━━━━━━━━━━━━━━━━━━━━━━━━━╇━━━━━━━━━━━━━━━━━┩\n",
       "│ conv1d_3 (\u001b[38;5;33mConv1D\u001b[0m)                    │ (\u001b[38;5;45mNone\u001b[0m, \u001b[38;5;34m14\u001b[0m, \u001b[38;5;34m4\u001b[0m)               │              \u001b[38;5;34m76\u001b[0m │\n",
       "├──────────────────────────────────────┼─────────────────────────────┼─────────────────┤\n",
       "│ dense_6 (\u001b[38;5;33mDense\u001b[0m)                      │ (\u001b[38;5;45mNone\u001b[0m, \u001b[38;5;34m14\u001b[0m, \u001b[38;5;34m16\u001b[0m)              │              \u001b[38;5;34m80\u001b[0m │\n",
       "├──────────────────────────────────────┼─────────────────────────────┼─────────────────┤\n",
       "│ max_pooling1d_3 (\u001b[38;5;33mMaxPooling1D\u001b[0m)       │ (\u001b[38;5;45mNone\u001b[0m, \u001b[38;5;34m7\u001b[0m, \u001b[38;5;34m16\u001b[0m)               │               \u001b[38;5;34m0\u001b[0m │\n",
       "├──────────────────────────────────────┼─────────────────────────────┼─────────────────┤\n",
       "│ flatten_3 (\u001b[38;5;33mFlatten\u001b[0m)                  │ (\u001b[38;5;45mNone\u001b[0m, \u001b[38;5;34m112\u001b[0m)                 │               \u001b[38;5;34m0\u001b[0m │\n",
       "├──────────────────────────────────────┼─────────────────────────────┼─────────────────┤\n",
       "│ dense_7 (\u001b[38;5;33mDense\u001b[0m)                      │ (\u001b[38;5;45mNone\u001b[0m, \u001b[38;5;34m15\u001b[0m)                  │           \u001b[38;5;34m1,695\u001b[0m │\n",
       "└──────────────────────────────────────┴─────────────────────────────┴─────────────────┘\n"
      ]
     },
     "metadata": {},
     "output_type": "display_data"
    },
    {
     "data": {
      "text/html": [
       "<pre style=\"white-space:pre;overflow-x:auto;line-height:normal;font-family:Menlo,'DejaVu Sans Mono',consolas,'Courier New',monospace\"><span style=\"font-weight: bold\"> Total params: </span><span style=\"color: #00af00; text-decoration-color: #00af00\">1,851</span> (7.23 KB)\n",
       "</pre>\n"
      ],
      "text/plain": [
       "\u001b[1m Total params: \u001b[0m\u001b[38;5;34m1,851\u001b[0m (7.23 KB)\n"
      ]
     },
     "metadata": {},
     "output_type": "display_data"
    },
    {
     "data": {
      "text/html": [
       "<pre style=\"white-space:pre;overflow-x:auto;line-height:normal;font-family:Menlo,'DejaVu Sans Mono',consolas,'Courier New',monospace\"><span style=\"font-weight: bold\"> Trainable params: </span><span style=\"color: #00af00; text-decoration-color: #00af00\">1,851</span> (7.23 KB)\n",
       "</pre>\n"
      ],
      "text/plain": [
       "\u001b[1m Trainable params: \u001b[0m\u001b[38;5;34m1,851\u001b[0m (7.23 KB)\n"
      ]
     },
     "metadata": {},
     "output_type": "display_data"
    },
    {
     "data": {
      "text/html": [
       "<pre style=\"white-space:pre;overflow-x:auto;line-height:normal;font-family:Menlo,'DejaVu Sans Mono',consolas,'Courier New',monospace\"><span style=\"font-weight: bold\"> Non-trainable params: </span><span style=\"color: #00af00; text-decoration-color: #00af00\">0</span> (0.00 B)\n",
       "</pre>\n"
      ],
      "text/plain": [
       "\u001b[1m Non-trainable params: \u001b[0m\u001b[38;5;34m0\u001b[0m (0.00 B)\n"
      ]
     },
     "metadata": {},
     "output_type": "display_data"
    }
   ],
   "source": [
    "model.summary()"
   ]
  },
  {
   "cell_type": "code",
   "execution_count": 65,
   "id": "239b4783",
   "metadata": {},
   "outputs": [],
   "source": [
    "model.compile(loss='categorical_crossentropy', optimizer='adam', metrics=['accuracy'])"
   ]
  },
  {
   "cell_type": "code",
   "execution_count": 66,
   "id": "65c6c07a",
   "metadata": {},
   "outputs": [
    {
     "name": "stdout",
     "output_type": "stream",
     "text": [
      "Epoch 1/30\n",
      "1076/1076 - 9s - 8ms/step - accuracy: 0.1357 - loss: 34.9197\n",
      "Epoch 2/30\n",
      "1076/1076 - 7s - 6ms/step - accuracy: 0.0765 - loss: 27.5187\n",
      "Epoch 3/30\n",
      "1076/1076 - 10s - 10ms/step - accuracy: 0.0751 - loss: 27.4742\n",
      "Epoch 4/30\n",
      "1076/1076 - 10s - 9ms/step - accuracy: 0.0926 - loss: 27.4104\n",
      "Epoch 5/30\n",
      "1076/1076 - 11s - 10ms/step - accuracy: 0.0910 - loss: 27.1038\n",
      "Epoch 6/30\n",
      "1076/1076 - 11s - 10ms/step - accuracy: 0.0944 - loss: 23.1832\n",
      "Epoch 7/30\n",
      "1076/1076 - 7s - 7ms/step - accuracy: 0.5650 - loss: nan\n",
      "Epoch 8/30\n",
      "1076/1076 - 7s - 6ms/step - accuracy: 0.6440 - loss: nan\n",
      "Epoch 9/30\n",
      "1076/1076 - 9s - 9ms/step - accuracy: 0.6440 - loss: nan\n",
      "Epoch 10/30\n",
      "1076/1076 - 11s - 11ms/step - accuracy: 0.6440 - loss: nan\n",
      "Epoch 11/30\n",
      "1076/1076 - 7s - 6ms/step - accuracy: 0.6440 - loss: nan\n",
      "Epoch 12/30\n",
      "1076/1076 - 10s - 10ms/step - accuracy: 0.6440 - loss: nan\n",
      "Epoch 13/30\n",
      "1076/1076 - 11s - 10ms/step - accuracy: 0.6440 - loss: nan\n",
      "Epoch 14/30\n",
      "1076/1076 - 7s - 7ms/step - accuracy: 0.6440 - loss: nan\n",
      "Epoch 15/30\n",
      "1076/1076 - 10s - 10ms/step - accuracy: 0.6440 - loss: nan\n",
      "Epoch 16/30\n",
      "1076/1076 - 11s - 10ms/step - accuracy: 0.6440 - loss: nan\n",
      "Epoch 17/30\n",
      "1076/1076 - 10s - 10ms/step - accuracy: 0.6440 - loss: nan\n",
      "Epoch 18/30\n",
      "1076/1076 - 10s - 9ms/step - accuracy: 0.6440 - loss: nan\n",
      "Epoch 19/30\n",
      "1076/1076 - 11s - 10ms/step - accuracy: 0.6440 - loss: nan\n",
      "Epoch 20/30\n",
      "1076/1076 - 7s - 6ms/step - accuracy: 0.6440 - loss: nan\n",
      "Epoch 21/30\n",
      "1076/1076 - 10s - 10ms/step - accuracy: 0.6440 - loss: nan\n",
      "Epoch 22/30\n",
      "1076/1076 - 7s - 6ms/step - accuracy: 0.6440 - loss: nan\n",
      "Epoch 23/30\n",
      "1076/1076 - 6s - 5ms/step - accuracy: 0.6440 - loss: nan\n",
      "Epoch 24/30\n",
      "1076/1076 - 11s - 10ms/step - accuracy: 0.6440 - loss: nan\n",
      "Epoch 25/30\n",
      "1076/1076 - 11s - 10ms/step - accuracy: 0.6440 - loss: nan\n",
      "Epoch 26/30\n",
      "1076/1076 - 10s - 10ms/step - accuracy: 0.6440 - loss: nan\n",
      "Epoch 27/30\n",
      "1076/1076 - 10s - 9ms/step - accuracy: 0.6440 - loss: nan\n",
      "Epoch 28/30\n",
      "1076/1076 - 7s - 6ms/step - accuracy: 0.6440 - loss: nan\n",
      "Epoch 29/30\n",
      "1076/1076 - 7s - 6ms/step - accuracy: 0.6440 - loss: nan\n",
      "Epoch 30/30\n",
      "1076/1076 - 10s - 9ms/step - accuracy: 0.6440 - loss: nan\n"
     ]
    },
    {
     "data": {
      "text/plain": [
       "<keras.src.callbacks.history.History at 0x14325f2da10>"
      ]
     },
     "execution_count": 66,
     "metadata": {},
     "output_type": "execute_result"
    }
   ],
   "source": [
    "model.fit(X_train, y_train, batch_size=batch_size, epochs=epochs, verbose=2)"
   ]
  },
  {
   "cell_type": "code",
   "execution_count": 67,
   "id": "e396a712",
   "metadata": {},
   "outputs": [],
   "source": [
    "# Define list of stations names\n",
    "\n",
    "stations = {\n",
    "0: 'BASEL',\n",
    "1: 'BELGRADE',\n",
    "2: 'BUDAPEST',\n",
    "3: 'DEBILT',\n",
    "4: 'DUSSELDORF',\n",
    "5: 'HEATHROW',\n",
    "6: 'KASSEL',\n",
    "7: 'LJUBLJANA',\n",
    "8: 'MAASTRICHT',\n",
    "9: 'MADRID',\n",
    "10: 'MUNCHENB',\n",
    "11: 'OSLO',\n",
    "12: 'SONNBLICK',\n",
    "13: 'STOCKHOLM',\n",
    "14: 'VALENTIA'\n",
    "\n",
    "}"
   ]
  },
  {
   "cell_type": "code",
   "execution_count": 68,
   "id": "8bdac3e8",
   "metadata": {},
   "outputs": [],
   "source": [
    "def confusion_matrix(y_true, y_pred):\n",
    "    y_true = pd.Series([stations[y] for y in np.argmax(y_true, axis=1)])\n",
    "    y_pred = pd.Series([stations[y] for y in np.argmax(y_pred, axis=1)])\n",
    "\n",
    "    return pd.crosstab(y_true, y_pred, rownames=['True'], colnames=['Pred'])"
   ]
  },
  {
   "cell_type": "code",
   "execution_count": 69,
   "id": "3d49fe65",
   "metadata": {},
   "outputs": [
    {
     "name": "stdout",
     "output_type": "stream",
     "text": [
      "\u001b[1m180/180\u001b[0m \u001b[32m━━━━━━━━━━━━━━━━━━━━\u001b[0m\u001b[37m\u001b[0m \u001b[1m1s\u001b[0m 4ms/step\n",
      "Pred        BASEL\n",
      "True             \n",
      "BASEL        3682\n",
      "BELGRADE     1092\n",
      "BUDAPEST      214\n",
      "DEBILT         82\n",
      "DUSSELDORF     29\n",
      "HEATHROW       82\n",
      "KASSEL         11\n",
      "LJUBLJANA      61\n",
      "MAASTRICHT      9\n",
      "MADRID        458\n",
      "MUNCHENB        8\n",
      "OSLO            5\n",
      "STOCKHOLM       4\n",
      "VALENTIA        1\n"
     ]
    }
   ],
   "source": [
    "# Evaluate\n",
    "\n",
    "print(confusion_matrix(y_test, model.predict(X_test)))"
   ]
  },
  {
   "cell_type": "code",
   "execution_count": 70,
   "id": "ed4a55c0",
   "metadata": {},
   "outputs": [
    {
     "name": "stdout",
     "output_type": "stream",
     "text": [
      "\u001b[1m180/180\u001b[0m \u001b[32m━━━━━━━━━━━━━━━━━━━━\u001b[0m\u001b[37m\u001b[0m \u001b[1m1s\u001b[0m 3ms/step\n",
      "\n",
      "Accuracy: 64.17%\n"
     ]
    }
   ],
   "source": [
    "from sklearn.metrics import accuracy_score\n",
    "\n",
    "# Replace `model` with the actual instance of your trained model\n",
    "y_pred = model.predict(X_test)  # Generate predictions from your model\n",
    "\n",
    "# Convert one-hot encoded arrays to label indices\n",
    "true_labels = np.argmax(y_test, axis=1)\n",
    "predicted_labels = np.argmax(y_pred, axis=1)\n",
    "\n",
    "# Calculate and print accuracy\n",
    "accuracy = accuracy_score(true_labels, predicted_labels)\n",
    "print(f\"\\nAccuracy: {accuracy * 100:.2f}%\")"
   ]
  },
  {
   "cell_type": "markdown",
   "id": "322c2352",
   "metadata": {},
   "source": [
    "### Keras Model Retrials 3"
   ]
  },
  {
   "cell_type": "code",
   "execution_count": 71,
   "id": "ffed8fdd",
   "metadata": {},
   "outputs": [],
   "source": [
    "epochs = 30\n",
    "batch_size = 16\n",
    "n_hidden = 64\n",
    "\n",
    "timesteps = len(X_train[0])\n",
    "input_dim = len(X_train[0][0])\n",
    "n_classes = len(y_train[0])\n",
    "\n",
    "model = Sequential()\n",
    "model.add(Conv1D(n_hidden, kernel_size=2, activation='relu', input_shape=(timesteps, input_dim)))\n",
    "model.add(Dense(16, activation='relu'))\n",
    "model.add(MaxPooling1D())\n",
    "model.add(Flatten())\n",
    "model.add(Dense(n_classes, activation='tanh')) # Options: sigmoid, tanh, softmax, relu"
   ]
  },
  {
   "cell_type": "code",
   "execution_count": 72,
   "id": "e72ab04f",
   "metadata": {},
   "outputs": [
    {
     "data": {
      "text/html": [
       "<pre style=\"white-space:pre;overflow-x:auto;line-height:normal;font-family:Menlo,'DejaVu Sans Mono',consolas,'Courier New',monospace\"><span style=\"font-weight: bold\">Model: \"sequential_4\"</span>\n",
       "</pre>\n"
      ],
      "text/plain": [
       "\u001b[1mModel: \"sequential_4\"\u001b[0m\n"
      ]
     },
     "metadata": {},
     "output_type": "display_data"
    },
    {
     "data": {
      "text/html": [
       "<pre style=\"white-space:pre;overflow-x:auto;line-height:normal;font-family:Menlo,'DejaVu Sans Mono',consolas,'Courier New',monospace\">┏━━━━━━━━━━━━━━━━━━━━━━━━━━━━━━━━━━━━━━┳━━━━━━━━━━━━━━━━━━━━━━━━━━━━━┳━━━━━━━━━━━━━━━━━┓\n",
       "┃<span style=\"font-weight: bold\"> Layer (type)                         </span>┃<span style=\"font-weight: bold\"> Output Shape                </span>┃<span style=\"font-weight: bold\">         Param # </span>┃\n",
       "┡━━━━━━━━━━━━━━━━━━━━━━━━━━━━━━━━━━━━━━╇━━━━━━━━━━━━━━━━━━━━━━━━━━━━━╇━━━━━━━━━━━━━━━━━┩\n",
       "│ conv1d_4 (<span style=\"color: #0087ff; text-decoration-color: #0087ff\">Conv1D</span>)                    │ (<span style=\"color: #00d7ff; text-decoration-color: #00d7ff\">None</span>, <span style=\"color: #00af00; text-decoration-color: #00af00\">14</span>, <span style=\"color: #00af00; text-decoration-color: #00af00\">64</span>)              │           <span style=\"color: #00af00; text-decoration-color: #00af00\">1,216</span> │\n",
       "├──────────────────────────────────────┼─────────────────────────────┼─────────────────┤\n",
       "│ dense_8 (<span style=\"color: #0087ff; text-decoration-color: #0087ff\">Dense</span>)                      │ (<span style=\"color: #00d7ff; text-decoration-color: #00d7ff\">None</span>, <span style=\"color: #00af00; text-decoration-color: #00af00\">14</span>, <span style=\"color: #00af00; text-decoration-color: #00af00\">16</span>)              │           <span style=\"color: #00af00; text-decoration-color: #00af00\">1,040</span> │\n",
       "├──────────────────────────────────────┼─────────────────────────────┼─────────────────┤\n",
       "│ max_pooling1d_4 (<span style=\"color: #0087ff; text-decoration-color: #0087ff\">MaxPooling1D</span>)       │ (<span style=\"color: #00d7ff; text-decoration-color: #00d7ff\">None</span>, <span style=\"color: #00af00; text-decoration-color: #00af00\">7</span>, <span style=\"color: #00af00; text-decoration-color: #00af00\">16</span>)               │               <span style=\"color: #00af00; text-decoration-color: #00af00\">0</span> │\n",
       "├──────────────────────────────────────┼─────────────────────────────┼─────────────────┤\n",
       "│ flatten_4 (<span style=\"color: #0087ff; text-decoration-color: #0087ff\">Flatten</span>)                  │ (<span style=\"color: #00d7ff; text-decoration-color: #00d7ff\">None</span>, <span style=\"color: #00af00; text-decoration-color: #00af00\">112</span>)                 │               <span style=\"color: #00af00; text-decoration-color: #00af00\">0</span> │\n",
       "├──────────────────────────────────────┼─────────────────────────────┼─────────────────┤\n",
       "│ dense_9 (<span style=\"color: #0087ff; text-decoration-color: #0087ff\">Dense</span>)                      │ (<span style=\"color: #00d7ff; text-decoration-color: #00d7ff\">None</span>, <span style=\"color: #00af00; text-decoration-color: #00af00\">15</span>)                  │           <span style=\"color: #00af00; text-decoration-color: #00af00\">1,695</span> │\n",
       "└──────────────────────────────────────┴─────────────────────────────┴─────────────────┘\n",
       "</pre>\n"
      ],
      "text/plain": [
       "┏━━━━━━━━━━━━━━━━━━━━━━━━━━━━━━━━━━━━━━┳━━━━━━━━━━━━━━━━━━━━━━━━━━━━━┳━━━━━━━━━━━━━━━━━┓\n",
       "┃\u001b[1m \u001b[0m\u001b[1mLayer (type)                        \u001b[0m\u001b[1m \u001b[0m┃\u001b[1m \u001b[0m\u001b[1mOutput Shape               \u001b[0m\u001b[1m \u001b[0m┃\u001b[1m \u001b[0m\u001b[1m        Param #\u001b[0m\u001b[1m \u001b[0m┃\n",
       "┡━━━━━━━━━━━━━━━━━━━━━━━━━━━━━━━━━━━━━━╇━━━━━━━━━━━━━━━━━━━━━━━━━━━━━╇━━━━━━━━━━━━━━━━━┩\n",
       "│ conv1d_4 (\u001b[38;5;33mConv1D\u001b[0m)                    │ (\u001b[38;5;45mNone\u001b[0m, \u001b[38;5;34m14\u001b[0m, \u001b[38;5;34m64\u001b[0m)              │           \u001b[38;5;34m1,216\u001b[0m │\n",
       "├──────────────────────────────────────┼─────────────────────────────┼─────────────────┤\n",
       "│ dense_8 (\u001b[38;5;33mDense\u001b[0m)                      │ (\u001b[38;5;45mNone\u001b[0m, \u001b[38;5;34m14\u001b[0m, \u001b[38;5;34m16\u001b[0m)              │           \u001b[38;5;34m1,040\u001b[0m │\n",
       "├──────────────────────────────────────┼─────────────────────────────┼─────────────────┤\n",
       "│ max_pooling1d_4 (\u001b[38;5;33mMaxPooling1D\u001b[0m)       │ (\u001b[38;5;45mNone\u001b[0m, \u001b[38;5;34m7\u001b[0m, \u001b[38;5;34m16\u001b[0m)               │               \u001b[38;5;34m0\u001b[0m │\n",
       "├──────────────────────────────────────┼─────────────────────────────┼─────────────────┤\n",
       "│ flatten_4 (\u001b[38;5;33mFlatten\u001b[0m)                  │ (\u001b[38;5;45mNone\u001b[0m, \u001b[38;5;34m112\u001b[0m)                 │               \u001b[38;5;34m0\u001b[0m │\n",
       "├──────────────────────────────────────┼─────────────────────────────┼─────────────────┤\n",
       "│ dense_9 (\u001b[38;5;33mDense\u001b[0m)                      │ (\u001b[38;5;45mNone\u001b[0m, \u001b[38;5;34m15\u001b[0m)                  │           \u001b[38;5;34m1,695\u001b[0m │\n",
       "└──────────────────────────────────────┴─────────────────────────────┴─────────────────┘\n"
      ]
     },
     "metadata": {},
     "output_type": "display_data"
    },
    {
     "data": {
      "text/html": [
       "<pre style=\"white-space:pre;overflow-x:auto;line-height:normal;font-family:Menlo,'DejaVu Sans Mono',consolas,'Courier New',monospace\"><span style=\"font-weight: bold\"> Total params: </span><span style=\"color: #00af00; text-decoration-color: #00af00\">3,951</span> (15.43 KB)\n",
       "</pre>\n"
      ],
      "text/plain": [
       "\u001b[1m Total params: \u001b[0m\u001b[38;5;34m3,951\u001b[0m (15.43 KB)\n"
      ]
     },
     "metadata": {},
     "output_type": "display_data"
    },
    {
     "data": {
      "text/html": [
       "<pre style=\"white-space:pre;overflow-x:auto;line-height:normal;font-family:Menlo,'DejaVu Sans Mono',consolas,'Courier New',monospace\"><span style=\"font-weight: bold\"> Trainable params: </span><span style=\"color: #00af00; text-decoration-color: #00af00\">3,951</span> (15.43 KB)\n",
       "</pre>\n"
      ],
      "text/plain": [
       "\u001b[1m Trainable params: \u001b[0m\u001b[38;5;34m3,951\u001b[0m (15.43 KB)\n"
      ]
     },
     "metadata": {},
     "output_type": "display_data"
    },
    {
     "data": {
      "text/html": [
       "<pre style=\"white-space:pre;overflow-x:auto;line-height:normal;font-family:Menlo,'DejaVu Sans Mono',consolas,'Courier New',monospace\"><span style=\"font-weight: bold\"> Non-trainable params: </span><span style=\"color: #00af00; text-decoration-color: #00af00\">0</span> (0.00 B)\n",
       "</pre>\n"
      ],
      "text/plain": [
       "\u001b[1m Non-trainable params: \u001b[0m\u001b[38;5;34m0\u001b[0m (0.00 B)\n"
      ]
     },
     "metadata": {},
     "output_type": "display_data"
    }
   ],
   "source": [
    "model.summary()"
   ]
  },
  {
   "cell_type": "code",
   "execution_count": 73,
   "id": "1c300133",
   "metadata": {},
   "outputs": [],
   "source": [
    "model.compile(loss='categorical_crossentropy', optimizer='adam', metrics=['accuracy'])"
   ]
  },
  {
   "cell_type": "code",
   "execution_count": 74,
   "id": "318c943f",
   "metadata": {},
   "outputs": [
    {
     "name": "stdout",
     "output_type": "stream",
     "text": [
      "Epoch 1/30\n",
      "1076/1076 - 11s - 10ms/step - accuracy: 0.4043 - loss: 28.2702\n",
      "Epoch 2/30\n",
      "1076/1076 - 8s - 7ms/step - accuracy: 0.4705 - loss: 28.3303\n",
      "Epoch 3/30\n",
      "1076/1076 - 7s - 7ms/step - accuracy: 0.4713 - loss: 28.3321\n",
      "Epoch 4/30\n",
      "1076/1076 - 11s - 10ms/step - accuracy: 0.4722 - loss: 28.3349\n",
      "Epoch 5/30\n",
      "1076/1076 - 10s - 9ms/step - accuracy: 0.4726 - loss: 28.3359\n",
      "Epoch 6/30\n",
      "1076/1076 - 10s - 10ms/step - accuracy: 0.4729 - loss: 28.3378\n",
      "Epoch 7/30\n",
      "1076/1076 - 10s - 9ms/step - accuracy: 0.4728 - loss: 28.3378\n",
      "Epoch 8/30\n",
      "1076/1076 - 8s - 7ms/step - accuracy: 0.4728 - loss: 28.3377\n",
      "Epoch 9/30\n",
      "1076/1076 - 8s - 7ms/step - accuracy: 0.4726 - loss: 28.3377\n",
      "Epoch 10/30\n",
      "1076/1076 - 9s - 8ms/step - accuracy: 0.4726 - loss: 28.3387\n",
      "Epoch 11/30\n",
      "1076/1076 - 5s - 5ms/step - accuracy: 0.4725 - loss: 28.3378\n",
      "Epoch 12/30\n",
      "1076/1076 - 8s - 7ms/step - accuracy: 0.4724 - loss: 28.3377\n",
      "Epoch 13/30\n",
      "1076/1076 - 8s - 7ms/step - accuracy: 0.4723 - loss: 28.3378\n",
      "Epoch 14/30\n",
      "1076/1076 - 11s - 11ms/step - accuracy: 0.4722 - loss: 28.3359\n",
      "Epoch 15/30\n",
      "1076/1076 - 6s - 6ms/step - accuracy: 0.4721 - loss: 28.3359\n",
      "Epoch 16/30\n",
      "1076/1076 - 6s - 6ms/step - accuracy: 0.4719 - loss: 28.3340\n",
      "Epoch 17/30\n",
      "1076/1076 - 12s - 11ms/step - accuracy: 0.4718 - loss: 28.3321\n",
      "Epoch 18/30\n",
      "1076/1076 - 7s - 7ms/step - accuracy: 0.4718 - loss: 28.3284\n",
      "Epoch 19/30\n",
      "1076/1076 - 8s - 7ms/step - accuracy: 0.4718 - loss: 28.3265\n",
      "Epoch 20/30\n",
      "1076/1076 - 8s - 7ms/step - accuracy: 0.4714 - loss: 28.3200\n",
      "Epoch 21/30\n",
      "1076/1076 - 9s - 9ms/step - accuracy: 0.4708 - loss: 28.3172\n",
      "Epoch 22/30\n",
      "1076/1076 - 11s - 10ms/step - accuracy: 0.4698 - loss: 28.2947\n",
      "Epoch 23/30\n",
      "1076/1076 - 6s - 6ms/step - accuracy: 0.4698 - loss: 28.2947\n",
      "Epoch 24/30\n",
      "1076/1076 - 4s - 3ms/step - accuracy: 0.4698 - loss: 28.2947\n",
      "Epoch 25/30\n",
      "1076/1076 - 5s - 5ms/step - accuracy: 0.4698 - loss: 28.2947\n",
      "Epoch 26/30\n",
      "1076/1076 - 11s - 10ms/step - accuracy: 0.4698 - loss: 28.2947\n",
      "Epoch 27/30\n",
      "1076/1076 - 11s - 10ms/step - accuracy: 0.4698 - loss: 28.2947\n",
      "Epoch 28/30\n",
      "1076/1076 - 6s - 5ms/step - accuracy: 0.4698 - loss: 28.2947\n",
      "Epoch 29/30\n",
      "1076/1076 - 8s - 7ms/step - accuracy: 0.4698 - loss: 28.2947\n",
      "Epoch 30/30\n",
      "1076/1076 - 10s - 9ms/step - accuracy: 0.4698 - loss: 28.2947\n"
     ]
    },
    {
     "data": {
      "text/plain": [
       "<keras.src.callbacks.history.History at 0x14326435790>"
      ]
     },
     "execution_count": 74,
     "metadata": {},
     "output_type": "execute_result"
    }
   ],
   "source": [
    "model.fit(X_train, y_train, batch_size=batch_size, epochs=epochs, verbose=2)"
   ]
  },
  {
   "cell_type": "code",
   "execution_count": 75,
   "id": "adfac0e1",
   "metadata": {},
   "outputs": [
    {
     "name": "stdout",
     "output_type": "stream",
     "text": [
      "\u001b[1m180/180\u001b[0m \u001b[32m━━━━━━━━━━━━━━━━━━━━\u001b[0m\u001b[37m\u001b[0m \u001b[1m1s\u001b[0m 4ms/step\n",
      "Pred        BASEL  DEBILT  DUSSELDORF  LJUBLJANA  MAASTRICHT  MADRID\n",
      "True                                                                \n",
      "BASEL        2661       1          16         15         857     132\n",
      "BELGRADE     1049       1           1          9          30       2\n",
      "BUDAPEST      212       1           0          1           0       0\n",
      "DEBILT         82       0           0          0           0       0\n",
      "DUSSELDORF     29       0           0          0           0       0\n",
      "HEATHROW       80       0           0          0           2       0\n",
      "KASSEL         11       0           0          0           0       0\n",
      "LJUBLJANA      61       0           0          0           0       0\n",
      "MAASTRICHT      9       0           0          0           0       0\n",
      "MADRID        425       0           0          1          21      11\n",
      "MUNCHENB        8       0           0          0           0       0\n",
      "OSLO            5       0           0          0           0       0\n",
      "STOCKHOLM       4       0           0          0           0       0\n",
      "VALENTIA        1       0           0          0           0       0\n"
     ]
    }
   ],
   "source": [
    "# Evaluate\n",
    "\n",
    "print(confusion_matrix(y_test, model.predict(X_test)))"
   ]
  },
  {
   "cell_type": "code",
   "execution_count": 76,
   "id": "8c4ef87b",
   "metadata": {},
   "outputs": [
    {
     "name": "stdout",
     "output_type": "stream",
     "text": [
      "\u001b[1m180/180\u001b[0m \u001b[32m━━━━━━━━━━━━━━━━━━━━\u001b[0m\u001b[37m\u001b[0m \u001b[1m1s\u001b[0m 3ms/step\n",
      "\n",
      "Accuracy: 46.57%\n"
     ]
    }
   ],
   "source": [
    "from sklearn.metrics import accuracy_score\n",
    "\n",
    "# Replace `model` with the actual instance of your trained model\n",
    "y_pred = model.predict(X_test)  # Generate predictions from your model\n",
    "\n",
    "# Convert one-hot encoded arrays to label indices\n",
    "true_labels = np.argmax(y_test, axis=1)\n",
    "predicted_labels = np.argmax(y_pred, axis=1)\n",
    "\n",
    "# Calculate and print accuracy\n",
    "accuracy = accuracy_score(true_labels, predicted_labels)\n",
    "print(f\"\\nAccuracy: {accuracy * 100:.2f}%\")"
   ]
  },
  {
   "cell_type": "code",
   "execution_count": null,
   "id": "30c86d11",
   "metadata": {},
   "outputs": [],
   "source": []
  }
 ],
 "metadata": {
  "kernelspec": {
   "display_name": "Python 3 (ipykernel)",
   "language": "python",
   "name": "python3"
  },
  "language_info": {
   "codemirror_mode": {
    "name": "ipython",
    "version": 3
   },
   "file_extension": ".py",
   "mimetype": "text/x-python",
   "name": "python",
   "nbconvert_exporter": "python",
   "pygments_lexer": "ipython3",
   "version": "3.11.7"
  }
 },
 "nbformat": 4,
 "nbformat_minor": 5
}
